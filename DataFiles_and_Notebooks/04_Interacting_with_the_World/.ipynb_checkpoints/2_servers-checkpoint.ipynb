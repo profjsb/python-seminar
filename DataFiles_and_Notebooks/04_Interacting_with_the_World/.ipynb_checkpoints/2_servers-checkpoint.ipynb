{
 "cells": [
  {
   "cell_type": "code",
   "execution_count": 1,
   "metadata": {
    "collapsed": false
   },
   "outputs": [
    {
     "data": {
      "text/html": [
       "<style>\n",
       "\n",
       ".rendered_html\n",
       "{\n",
       "  color: #2C5494;\n",
       "  font-family: Ubuntu;\n",
       "  font-size: 140%;\n",
       "  line-height: 1.1;\n",
       "  margin: 0.5em 0;\n",
       "  }\n",
       "\n",
       ".talk_title\n",
       "{\n",
       "  color: #498AF3;\n",
       "  font-size: 250%;\n",
       "  font-weight:bold;\n",
       "  line-height: 1.2; \n",
       "  margin: 10px 50px 10px;\n",
       "  }\n",
       "\n",
       ".subtitle\n",
       "{\n",
       "  color: #386BBC;\n",
       "  font-size: 180%;\n",
       "  font-weight:bold;\n",
       "  line-height: 1.2; \n",
       "  margin: 20px 50px 20px;\n",
       "  }\n",
       "\n",
       ".slide-header, p.slide-header\n",
       "{\n",
       "  color: #498AF3;\n",
       "  font-size: 200%;\n",
       "  font-weight:bold;\n",
       "  margin: 0px 20px 10px;\n",
       "  page-break-before: always;\n",
       "  text-align: center;\n",
       "  }\n",
       "\n",
       ".rendered_html h1\n",
       "{\n",
       "  color: #498AF3;\n",
       "  line-height: 1.2; \n",
       "  margin: 0.15em 0em 0.5em;\n",
       "  page-break-before: always;\n",
       "  text-align: center;\n",
       "  }\n",
       "\n",
       "\n",
       ".rendered_html h2\n",
       "{ \n",
       "  color: #386BBC;\n",
       "  line-height: 1.2;\n",
       "  margin: 1.1em 0em 0.5em;\n",
       "  }\n",
       "\n",
       ".rendered_html h3\n",
       "{ \n",
       "  font-size: 100%;\n",
       "  line-height: 1.2;\n",
       "  margin: 1.1em 0em 0.5em;\n",
       "  }\n",
       "\n",
       ".rendered_html li\n",
       "{\n",
       "  line-height: 1.8;\n",
       "  }\n",
       "\n",
       ".input_prompt, .CodeMirror-lines, .output_area\n",
       "{\n",
       "  font-family: Consolas;\n",
       "  font-size: 120%;\n",
       "  }\n",
       "\n",
       ".gap-above\n",
       "{\n",
       "  padding-top: 200px;\n",
       "  }\n",
       "\n",
       ".gap01\n",
       "{\n",
       "  padding-top: 10px;\n",
       "  }\n",
       "\n",
       ".gap05\n",
       "{\n",
       "  padding-top: 50px;\n",
       "  }\n",
       "\n",
       ".gap1\n",
       "{\n",
       "  padding-top: 100px;\n",
       "  }\n",
       "\n",
       ".gap2\n",
       "{\n",
       "  padding-top: 200px;\n",
       "  }\n",
       "\n",
       ".gap3\n",
       "{\n",
       "  padding-top: 300px;\n",
       "  }\n",
       "\n",
       ".emph\n",
       "{\n",
       "  color: #386BBC;\n",
       "  }\n",
       "\n",
       ".warn\n",
       "{\n",
       "  color: red;\n",
       "  }\n",
       "\n",
       ".center\n",
       "{\n",
       "  text-align: center;\n",
       "  }\n",
       "\n",
       ".nb_link\n",
       "{\n",
       "    padding-bottom: 0.5em;\n",
       "}\n",
       "\n",
       "</style>"
      ],
      "text/plain": [
       "<IPython.core.display.HTML object>"
      ]
     },
     "metadata": {},
     "output_type": "display_data"
    }
   ],
   "source": [
    "%run ../00_AdvancedPythonConcepts/talktools.py"
   ]
  },
  {
   "cell_type": "markdown",
   "metadata": {},
   "source": [
    "# Sockets and Ports\n",
    "\n",
    "An Internet socket is an endpoint of a bidirectional inter-process communication flow across an Internet Protocol-based computer network, such as the Internet. The term Internet sockets is also used as a name for an application programming interface (API) for the TCP/IP protocol stack, usually provided by the operating system. Internet sockets constitute a mechanism for delivering incoming data packets to the appropriate application process or thread, based on a combination of local and remote IP addresses and port numbers. Each socket is mapped by the operating system to a communicating application process or thread.\n",
    "\n",
    "A port is an application-specific or process-specific software construct serving as a communications endpoint.\n",
    "\n",
    "-- wikipedia"
   ]
  },
  {
   "cell_type": "markdown",
   "metadata": {},
   "source": [
    "# Socket\n",
    "\n",
    "Provides access to the BSD socket interface \n",
    "using TCP or UDP. Great for communication to any IP address\n",
    "(internal, LAN, or external).\n",
    "\n",
    "Functions:\n",
    " - socket() -- create a new socket object\n",
    " - socketpair() -- create a pair of new socket objects [*]\n",
    " - fromfd() -- create a socket object from an open file descriptor [*]\n",
    " - gethostname() -- return the current hostname\n",
    " - gethostbyname() -- map a hostname to its IP number\n",
    " - gethostbyaddr() -- map an IP number or hostname to DNS info\n",
    " - getservbyname() -- map a service name and a protocol name to a port number\n",
    " - getprotobyname() -- map a protocol name (e.g. 'tcp') to a number\n",
    " - ntohs(), ntohl() -- convert 16, 32 bit int from network to host byte order\n",
    " - htons(), htonl() -- convert 16, 32 bit int from host to network byte order\n",
    " - inet_aton() -- convert IP addr string (123.45.67.89) to 32-bit packed format\n",
    " - inet_ntoa() -- convert 32-bit packed format IP to string (123.45.67.89)\n",
    " - ssl() -- secure socket layer support (only available if configured)\n",
    " - socket.getdefaulttimeout() -- get the default timeout value\n",
    " - socket.setdefaulttimeout() -- set the default timeout value\n",
    " - create_connection() -- connects to an address, with an optional timeout\n",
    "\n",
    " [*] not available on all platforms!"
   ]
  },
  {
   "cell_type": "markdown",
   "metadata": {},
   "source": [
    "# TCP Socket Server"
   ]
  },
  {
   "cell_type": "code",
   "execution_count": null,
   "metadata": {
    "collapsed": false
   },
   "outputs": [],
   "source": [
    "import socket, time\n",
    "s = socket.socket(socket.AF_INET, socket.SOCK_STREAM) \n",
    "host, port = \"\", 5100\n",
    "s.bind((host, port))\n",
    "s.listen(1)\n",
    "conn, addr = s.accept()\n",
    "print(\"Client is at\", addr, \".\")\n",
    "data = conn.recv(100)\n",
    "print(\"Client says:\", data)\n",
    "response = \"Invalid command.\"\n",
    "if data == \"hello\":\n",
    "    response = \"How do you do?\"\n",
    "if data == \"time\":\n",
    "    response = time.ctime()\n",
    "if data == \"goodbye\":\n",
    "    response = \"It was nice hearing from you.\"\n",
    "conn.send(response) # now send response\n",
    "conn.close()"
   ]
  },
  {
   "cell_type": "markdown",
   "metadata": {},
   "source": [
    "Make a server that runs indefinitely. Must kill it with an interrupt."
   ]
  },
  {
   "cell_type": "code",
   "execution_count": null,
   "metadata": {
    "collapsed": false
   },
   "outputs": [],
   "source": [
    "import SocketServer, time\n",
    "class EchoRequestHandler(SocketServer.BaseRequestHandler):\n",
    "    def handle(self):\n",
    "        data = self.request.recv(100)\n",
    "        response = \"Invalid command.\"\n",
    "        if data == \"hello\":\n",
    "            response = \"How do you do?\"\n",
    "        if data == \"time\":\n",
    "            response = time.ctime()\n",
    "        self.request.send(response)\n",
    "server = SocketServer.ThreadingTCPServer(('', 5004), EchoRequestHandler)\n",
    "try:\n",
    "    server.serve_forever()\n",
    "except KeyboardInterrupt:\n",
    "    del server\n",
    "    print(\"you interrupted. bye.\")"
   ]
  },
  {
   "cell_type": "markdown",
   "metadata": {},
   "source": [
    "# XML-RPC Overview\n",
    "\n",
    " - Remote Procedure Call protocol which uses XML to encode its calls and HTTP as a transport mechanism\n",
    " - A Client sends an HTTP request to a Server implementing the protocol\n",
    " - The Client can pass multiple input parameters to the Server and request that the Server perform a method on those parameters and return the result (one value) in the response\n",
    " - The parameters and result can be common data types (including lists of multiple values)\n",
    " - Data is translated through XML (Extensible Markup Language) for transmission\n",
    " - In our usage the data is reformed into Python data structures by modules at the Client and Server"
   ]
  },
  {
   "cell_type": "markdown",
   "metadata": {},
   "source": [
    "XML-RPC Server:"
   ]
  },
  {
   "cell_type": "code",
   "execution_count": null,
   "metadata": {
    "collapsed": false
   },
   "outputs": [],
   "source": [
    "try:\n",
    "    from xmlrpc.server import SimpleXMLRPCServer\n",
    "except:\n",
    "    # Python 2.7\n",
    "    import SimpleXMLRPCServer\n",
    "\n",
    "class Some_Class_We_Want_Remotely_Accessible(object):\n",
    "    def addition(self, a, b):\n",
    "        return a + b\n",
    "    def subtraction(self, a, b):\n",
    "        return a - b\n",
    "\n",
    "host, port = \"\", 5022\n",
    "server = SimpleXMLRPCServer((host, port), allow_none=True)\n",
    "server.register_instance(Some_Class_We_Want_Remotely_Accessible())\n",
    "server.register_multicall_functions()\n",
    "server.register_introspection_functions()\n",
    "print(\"XMLRPC Server is starting at:\", host, port)"
   ]
  },
  {
   "cell_type": "code",
   "execution_count": null,
   "metadata": {
    "collapsed": false
   },
   "outputs": [],
   "source": [
    "server.serve_forever()"
   ]
  },
  {
   "cell_type": "code",
   "execution_count": null,
   "metadata": {
    "collapsed": false
   },
   "outputs": [],
   "source": []
  }
 ],
 "metadata": {
  "kernelspec": {
   "display_name": "Python [Root]",
   "language": "python",
   "name": "Python [Root]"
  },
  "language_info": {
   "codemirror_mode": {
    "name": "ipython",
    "version": 3
   },
   "file_extension": ".py",
   "mimetype": "text/x-python",
   "name": "python",
   "nbconvert_exporter": "python",
   "pygments_lexer": "ipython3",
   "version": "3.5.2"
  }
 },
 "nbformat": 4,
 "nbformat_minor": 0
}
