{
 "cells": [
  {
   "cell_type": "markdown",
   "metadata": {},
   "source": [
    "# TCP Socket Client"
   ]
  },
  {
   "cell_type": "code",
   "execution_count": null,
   "metadata": {
    "collapsed": false
   },
   "outputs": [],
   "source": [
    "import socket, sys\n",
    "s = socket.socket(socket.AF_INET, socket.SOCK_STREAM) \n",
    "host, port = \"\", 5004 # empty host string = localhost\n",
    "s.connect((host, port))\n",
    "cmd = \"time\" # if making a command line script, use sys.argv[1]\n",
    "s.send(cmd) # send command\n",
    "data = s.recv(100) # read up to 100 bytes\n",
    "print(\"Server says:\", data)\n",
    "s.close()"
   ]
  },
  {
   "cell_type": "code",
   "execution_count": null,
   "metadata": {
    "collapsed": false
   },
   "outputs": [],
   "source": [
    "import socket, sys\n",
    "s = socket.socket(socket.AF_INET, socket.SOCK_STREAM) \n",
    "host, port = \"\", 5002 # empty host string = localhost\n",
    "s.connect((host, port))\n",
    "cmd = \"time\" # if making a command line script, use sys.argv[1]\n",
    "s.send(cmd) # send command\n",
    "data = s.recv(100) # read up to 100 bytes\n",
    "print(\"Server says:\", data)\n",
    "s.close()"
   ]
  },
  {
   "cell_type": "markdown",
   "metadata": {},
   "source": [
    "# XMLRPC Client"
   ]
  },
  {
   "cell_type": "code",
   "execution_count": null,
   "metadata": {
    "collapsed": false
   },
   "outputs": [],
   "source": [
    "import sys\n",
    "\n",
    "try:\n",
    "    from xmlrpc.client import ServerProxy\n",
    "except:\n",
    "    # Python 2.7\n",
    "    from xmlrpclib import ServerProxy\n",
    "\n",
    "host, port = \"\", 5022\n",
    "server = ServerProxy(\"http://%s:%d\" % (host, port))\n",
    "available_methods = server.system.listMethods()\n",
    "print(\"Available methods from server:\")\n",
    "for method in available_methods:\n",
    "    print(\"\\t\" + method)\n",
    "result = server.subtraction(1, 4)\n",
    "print(\"Result:\", result)\n",
    "result = server.addition(1, 4)\n",
    "print(\"Result:\", result)"
   ]
  },
  {
   "cell_type": "code",
   "execution_count": null,
   "metadata": {
    "collapsed": false
   },
   "outputs": [],
   "source": [
    "result = server.addition(12, 4.5)\n",
    "print(result)"
   ]
  },
  {
   "cell_type": "code",
   "execution_count": null,
   "metadata": {
    "collapsed": false
   },
   "outputs": [],
   "source": []
  }
 ],
 "metadata": {
  "kernelspec": {
   "display_name": "Python [Root]",
   "language": "python",
   "name": "Python [Root]"
  },
  "language_info": {
   "codemirror_mode": {
    "name": "ipython",
    "version": 3
   },
   "file_extension": ".py",
   "mimetype": "text/x-python",
   "name": "python",
   "nbconvert_exporter": "python",
   "pygments_lexer": "ipython3",
   "version": "3.5.2"
  }
 },
 "nbformat": 4,
 "nbformat_minor": 0
}
