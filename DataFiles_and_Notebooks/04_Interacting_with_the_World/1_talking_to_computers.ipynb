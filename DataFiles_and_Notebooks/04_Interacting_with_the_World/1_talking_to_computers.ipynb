{
 "cells": [
  {
   "cell_type": "markdown",
   "metadata": {},
   "source": [
    "<img src=\"https://www.evernote.com/l/AUXIi328hU9Im7vbcG4SauyAkY-8L11rdU8B/image.png\">\n",
    "Python Seminar (AY250) UC Berkeley"
   ]
  },
  {
   "cell_type": "code",
   "execution_count": 1,
   "metadata": {
    "collapsed": false
   },
   "outputs": [
    {
     "data": {
      "text/html": [
       "<style>\n",
       "\n",
       ".rendered_html\n",
       "{\n",
       "  color: #2C5494;\n",
       "  font-family: Ubuntu;\n",
       "  font-size: 140%;\n",
       "  line-height: 1.1;\n",
       "  margin: 0.5em 0;\n",
       "  }\n",
       "\n",
       ".talk_title\n",
       "{\n",
       "  color: #498AF3;\n",
       "  font-size: 250%;\n",
       "  font-weight:bold;\n",
       "  line-height: 1.2; \n",
       "  margin: 10px 50px 10px;\n",
       "  }\n",
       "\n",
       ".subtitle\n",
       "{\n",
       "  color: #386BBC;\n",
       "  font-size: 180%;\n",
       "  font-weight:bold;\n",
       "  line-height: 1.2; \n",
       "  margin: 20px 50px 20px;\n",
       "  }\n",
       "\n",
       ".slide-header, p.slide-header\n",
       "{\n",
       "  color: #498AF3;\n",
       "  font-size: 200%;\n",
       "  font-weight:bold;\n",
       "  margin: 0px 20px 10px;\n",
       "  page-break-before: always;\n",
       "  text-align: center;\n",
       "  }\n",
       "\n",
       ".rendered_html h1\n",
       "{\n",
       "  color: #498AF3;\n",
       "  line-height: 1.2; \n",
       "  margin: 0.15em 0em 0.5em;\n",
       "  page-break-before: always;\n",
       "  text-align: center;\n",
       "  }\n",
       "\n",
       "\n",
       ".rendered_html h2\n",
       "{ \n",
       "  color: #386BBC;\n",
       "  line-height: 1.2;\n",
       "  margin: 1.1em 0em 0.5em;\n",
       "  }\n",
       "\n",
       ".rendered_html h3\n",
       "{ \n",
       "  font-size: 100%;\n",
       "  line-height: 1.2;\n",
       "  margin: 1.1em 0em 0.5em;\n",
       "  }\n",
       "\n",
       ".rendered_html li\n",
       "{\n",
       "  line-height: 1.8;\n",
       "  }\n",
       "\n",
       ".input_prompt, .CodeMirror-lines, .output_area\n",
       "{\n",
       "  font-family: Consolas;\n",
       "  font-size: 120%;\n",
       "  }\n",
       "\n",
       ".gap-above\n",
       "{\n",
       "  padding-top: 200px;\n",
       "  }\n",
       "\n",
       ".gap01\n",
       "{\n",
       "  padding-top: 10px;\n",
       "  }\n",
       "\n",
       ".gap05\n",
       "{\n",
       "  padding-top: 50px;\n",
       "  }\n",
       "\n",
       ".gap1\n",
       "{\n",
       "  padding-top: 100px;\n",
       "  }\n",
       "\n",
       ".gap2\n",
       "{\n",
       "  padding-top: 200px;\n",
       "  }\n",
       "\n",
       ".gap3\n",
       "{\n",
       "  padding-top: 300px;\n",
       "  }\n",
       "\n",
       ".emph\n",
       "{\n",
       "  color: #386BBC;\n",
       "  }\n",
       "\n",
       ".warn\n",
       "{\n",
       "  color: red;\n",
       "  }\n",
       "\n",
       ".center\n",
       "{\n",
       "  text-align: center;\n",
       "  }\n",
       "\n",
       ".nb_link\n",
       "{\n",
       "    padding-bottom: 0.5em;\n",
       "}\n",
       "\n",
       "</style>"
      ],
      "text/plain": [
       "<IPython.core.display.HTML object>"
      ]
     },
     "metadata": {},
     "output_type": "display_data"
    }
   ],
   "source": [
    "%run ../00_AdvancedPythonConcepts/talktools.py"
   ]
  },
  {
   "cell_type": "markdown",
   "metadata": {},
   "source": [
    "## Outline\n",
    "\n",
    "\n",
    "1. Websites and webservers\n",
    "\n",
    "   - `urllib`, `ftplib`, `httplib`, `httplib2`, `requests`\n",
    "   - Parsing with `html5lib`, `BeautifulSoup4`\n",
    "   - `conda install beautifulsoup4`\n",
    "\n",
    "2. Transmission Control Protocol (TCP)\n",
    "\n",
    "   - `socket`\n",
    "    \n",
    "3. Breakout Exercise\n",
    "\n",
    "   - Focus on automating website access\n",
    "\n",
    "4. Remote Procedure Call\n",
    "\n",
    "  - `SimpleXMLRPCServer`, `xmlrpclib`"
   ]
  },
  {
   "cell_type": "markdown",
   "metadata": {},
   "source": [
    "## Network Communication Overview\n",
    "\n",
    "- TCP/IP sockets: Most all network communication, also UDP  \n",
    "- TCP (Transmission Control Protocol): exchange data reliably between two network hosts\n",
    "- IP (Internet Protocol): handles addressing & routing messages across one or more networks\n",
    "\n",
    "<hr>\n",
    "<img src=\"http://flylib.com/books/3/475/1/html/2/images/0131777203/graphics/14fig02.gif\">\n",
    "<hr>\n",
    "<img src=\"http://i.cloud.opensystemsmedia.com/i__srcbc84f1fa314969f2dc009b8711c679ce_paraf0d99c20bd457d46a92c72841873c47.jpeg\">\n",
    "<hr>\n",
    "<img src=\"https://microchip.wdfiles.com/local--files/tcpip:tcp-ip-five-layer-model/layer_terminology.JPG\">"
   ]
  },
  {
   "cell_type": "markdown",
   "metadata": {},
   "source": [
    "# Accessing a Web address (URL)\n",
    "\n",
    "<quote>Why? Who would ever want to easily automate URL (Uniform Resource Locator) retrieval and form submission in a scripting language?\n",
    "</quote>\n",
    "\n",
    " - Data mining (we’ll do this in the breakout)\n",
    " - Submitting information to another system\n",
    " - Accessing remote compute resources (“webservices”)\n",
    " - Get microservices"
   ]
  },
  {
   "cell_type": "markdown",
   "metadata": {},
   "source": [
    "`urllib` provides tools & functions for high-level, but less modern, interactions. It's suited for complex interactions, supporting basic and digest authentication, redirections, cookies, and more:\n",
    "\n",
    " - `urllib.request` for opening and reading URLs\n",
    " - `urllib.error` containing the exceptions raised by urllib.request\n",
    " - `urllib.parse` for parsing URLs\n",
    " - `urllib.robotparser` for parsing robots.txt files\n",
    "\n",
    "\n",
    " \n",
    "Note: `urllib.request.urlopen` function always returns an object which can work as a context manager\n",
    "\n",
    "See https://docs.python.org/3/library/urllib.request.html#module-urllib.request"
   ]
  },
  {
   "cell_type": "markdown",
   "metadata": {},
   "source": [
    "# Super simple webpage access"
   ]
  },
  {
   "cell_type": "code",
   "execution_count": 2,
   "metadata": {
    "collapsed": true
   },
   "outputs": [],
   "source": [
    "from __future__ import absolute_import, division, print_function"
   ]
  },
  {
   "cell_type": "code",
   "execution_count": 3,
   "metadata": {
    "collapsed": false
   },
   "outputs": [
    {
     "name": "stdout",
     "output_type": "stream",
     "text": [
      "b'<!-- start of preamble -->\\n<!DOCTYPE html PUBLIC \"-//W3C//DTD XHTML 1.0 Strict//EN\"\\n    \"http://www.w3.org/TR/xhtml1/DTD/xhtml1-strict.dtd\">\\n<html xmlns=\"http://www.w3.org/1999/xhtml\" xml:lang=\"en\" lang=\"en\"\\n      id=\"brainmaps\">\\n<HEAD>\\n    <title>BRAINMAPS.ORG - BRAIN ATLAS, BRAIN MAPS, BRAIN STRUC'\n"
     ]
    }
   ],
   "source": [
    "# URL = Uniform Resource Locator\n",
    "try:\n",
    "    # For Python 3.0 and later\n",
    "    from urllib.request import urlopen\n",
    "except ImportError:\n",
    "    # Fall back to Python 2's urllib2\n",
    "    from urllib2 import urlopen\n",
    "    \n",
    "# Brain maps data \"Explore the Brain like never before\"\n",
    "url = \"http://brainmaps.org/\"  \n",
    "response = urlopen(url) # response is a file-like object\n",
    "html_data = response.read()\n",
    "response.close() # close response as you would a normal file\n",
    "print(html_data[:300])"
   ]
  },
  {
   "cell_type": "markdown",
   "metadata": {},
   "source": [
    "Small aside: if you have HTML data that you want to render, you can use `webbrowser` module\n",
    "\n",
    "see http://docs.python.org/library/webbrowser.html"
   ]
  },
  {
   "cell_type": "code",
   "execution_count": 4,
   "metadata": {
    "collapsed": false
   },
   "outputs": [
    {
     "data": {
      "text/plain": [
       "True"
      ]
     },
     "execution_count": 4,
     "metadata": {},
     "output_type": "execute_result"
    }
   ],
   "source": [
    "import webbrowser\n",
    "open(\"/tmp/tmp.html\",\"w\").write(html_data.decode(\"UTF-8\"))\n",
    "webbrowser.open(\"file:///tmp/tmp.html\")"
   ]
  },
  {
   "cell_type": "markdown",
   "metadata": {},
   "source": [
    "# HTTP Overview\n",
    "\n",
    "Hypertext Transfer Protocol\n",
    "\n",
    "- HTTP takes place along TCP/IP sockets (typically port 80)\n",
    "- HTTP is used to transmit resources\n",
    "    - resources can be files, query results, server side script output\n",
    "\n",
    "<img src=\"http://www.oreilly.com/openbook/webclient/wcp_0302.gif\">\n",
    "\n",
    "Communication initiated by Client opening connection & sending request message to Server.  Server then returns a response message containing the resource that was requested. After delivering the response the Server closes the connection.\n",
    "\n",
    "The two most used request methods are **GET** and **POST**"
   ]
  },
  {
   "cell_type": "markdown",
   "metadata": {},
   "source": [
    "# Scripting an HTTP GET request"
   ]
  },
  {
   "cell_type": "code",
   "execution_count": 5,
   "metadata": {
    "collapsed": false
   },
   "outputs": [
    {
     "name": "stdout",
     "output_type": "stream",
     "text": [
      "page=2&q=Joshua+S.+Bloom\n"
     ]
    }
   ],
   "source": [
    "try:\n",
    "    from urllib.parse import urlencode\n",
    "except:\n",
    "    from urllib import urlencode\n",
    "\n",
    "\n",
    "# create a dictionary to store the GET data\n",
    "get_info = {\"q\": \"Joshua S. Bloom\", \"page\": \"2\"} \n",
    "\n",
    "# encode the data in proper URL format\n",
    "url_values = urlencode(get_info) \n",
    "print(url_values)"
   ]
  },
  {
   "cell_type": "code",
   "execution_count": 6,
   "metadata": {
    "collapsed": false
   },
   "outputs": [
    {
     "name": "stdout",
     "output_type": "stream",
     "text": [
      "b'ults\">\\n  <ol>\\n      \\n<li class=\"result\" id=\"article-21680812\">\\n  <div class=\"tools\">\\n  </div>\\n\\n  <!-- Title -->\\n  <a href=\"/articles/elasticsearch_show/21680812\" class=\"title\" target=\"\">A possible relativistic jetted outburst from a massive black hole fed by a tidally disrupted star.</a>\\n\\n  <!-- Language -->\\n  \\n\\n  <!-- Authors -->\\n  <div class=\"authors\">\\n    <a href=\"/author/joshua-s-bloom\">Joshua S Bloom</a>, <a href=\"/author/dimitrios-giannios\">Dimitrios Giannios</a>, <a href=\"/author/brian-d-metzger\">Brian D Metzger</a>, <a href=\"/author/s-bradley-cenko\">S Bradley Cenko</a>, <a href=\"/author/daniel-a-perley\">Daniel A Perley</a>, <a href=\"/author/nathaniel-r-butler\">Nathaniel R Butler</a>, <a href=\"/author/nial-r-tanvir\">Nial R Tanvir</a>, <a href=\"/author/andrew-j-levan\">Andrew J Levan</a>, <a href=\"/author/paul-t-o-brien\">Paul T O&#x27;Brien</a>, <a href=\"/author/linda-e-strubbe\">Linda E Strubbe</a>, <a href=\"/author/fabio-de-colle\">Fabio De Colle</a>, <a href=\"/author/enrico\">Enri'\n"
     ]
    }
   ],
   "source": [
    "url = \"http://pubget.com/search\"\n",
    "\n",
    "# open the url as before\n",
    "#alternatively: urlopen(url + \"?\" + url_values.encode(\"utf-8\"))\n",
    "response = urlopen(url,data=url_values.encode(\"utf-8\"))  \n",
    "\n",
    "html = response.read()\n",
    "response.close()\n",
    "print(html[8000:9000])"
   ]
  },
  {
   "cell_type": "markdown",
   "metadata": {},
   "source": [
    "\n",
    "   - **GET** default method for retrieving resources. Form data is encoded in the URL. GET should be used when the form processing is “idempotent” - when it has no side effects. GET is basically just for retrieving data (static files).\n",
    "\n",
    "   - **POST** places form data in the message body. It is more appropriate for wider range of processes, e.g., storing/updating data, ordering or sending a product, and sending email."
   ]
  },
  {
   "cell_type": "markdown",
   "metadata": {},
   "source": [
    "# Scripting an HTTP POST request"
   ]
  },
  {
   "cell_type": "code",
   "execution_count": 7,
   "metadata": {
    "collapsed": false
   },
   "outputs": [
    {
     "name": "stdout",
     "output_type": "stream",
     "text": [
      "b'Sagan,&#160;Carl</td><td><br></td><td align=\"left\" valign=\"top\" colspan=3>Ernst Mayr and Carl Sagan debate about the probability of intelligent life in the universe</td></tr>\\n<tr><td colspan=6><HR></td></tr>\\n<tr><td align=\"left\" valign=\"baseline\" nowrap>2</td><td align=\"left\" valign=\"baseline\" width=\"5%\"><input type=\"checkbox\"  name=\"bibcode\" value=\"2002C&amp;T...118Q.147J\">&nbsp;<a href=\"http://adsabs.harvard.edu/cgi-bin/nph-data_query?bibcode=2002C%26T...118Q.147J&amp;db_key=AST&amp;link_type=ABSTRACT&amp;high=57dc5c962d06701\">2002C&amp;T...118Q.147J</a></td><td><br></td><td align=\"left\" valign=\"baseline\">0.000</td><td align=\"left\" valign=\"baseline\">12/2002</td><td align=\"left\" valign=\"baseline\">&#160;&#160;&#160;&#160;&#160;&#160;&#160;&#160;&#160;&#160;&#160;&#160;&#160;&#160;&#160;&#160;&#160;&#160;&#160;&#160;&#160;&#160;&#160;&#160;&#160;&#160;&#160;&#160;&#160;&#160;&#160;&#160;&#160;&#160;&#160;&#160;&#160;&#160;&#160;&#160;&#160;&#160;&#160;&#160;&#160;&#160;&#160;&#160;&#160;&#160;&#160;&#160;&#160;&#160;&#160;&#160;&#160;&#160;&#160;&#160;&#160;&#160;&#160;&#160;&#160;&#160;&#160;&#160;&#160;&#160;&#160;&#160;&#160;&#160;&#160;&#160;&#160;&#160;&#160;&#160;</td></tr>\\n<tr><td></td><td align=\"left\" valign=\"top\" width=\"25%\">Sagan,&#160;Carl; Agel,&#160;Jerome; Dyson,&#160;Freeman; Druyan,&#160;Ann; Morisson,&#160;David; Jorissen,&#160;A.</td><td><br></td><td align=\"left\" valign=\"top\" colspan=3>Book Review: Carl Sagan\\'s cosmic connection - an extraterrestrial perspective / Jerome Agel (ed.), Cambridge University Press, Cambridge, xxxi + 302 pp., 2000, ISBN 0-521-78303-8.</td></tr>\\n<tr><td colspan=6><HR></td></tr>\\n<tr><td align=\"left\" valign=\"baseline\" nowrap>3</td><td align=\"left\" valign=\"baseline\" width=\"5%\"><input type=\"checkbox\"  name=\"bibcode\" value=\"2001Obs...121..181C\">&nbsp;<a href=\"http://adsabs.harvard.edu/cgi-bin/nph-data_query?bibcode=2001Obs...121..181C&amp;db_key=AST&amp;link_type=ABSTRACT&amp;high=57dc5c962d06701\">2001Obs...121..181C</a></td><td><br></td><td align=\"left\" valign=\"baseline\">0.000</td><td align=\"left\" valign=\"baseline\">06/2001</td><td align=\"left\" valign=\"baseline\">&#160;&#160;&#160;&#160;&#160;&#160;&#160;&#160;&#160;&#160;&#160;&#160;<a class=\"oa\" href=\"http://adsabs.harvard.edu/cgi-bin/nph-data_query?bibcode=2001Obs...121..181C&#38;db_key=AST&#38;link_type=ARTICLE\" onMouseOver=\"pl(3,+20)\" onMouseOut=\"hl(+20)\">F</a>&#160;&#160;<a class=\"oa\" href=\"http://adsabs.harvard.edu/cgi-bin/nph-data_query?bibcode=2001Obs...121..181C&#38;db_key=AST&#38;lin'\n"
     ]
    }
   ],
   "source": [
    "data = {}\n",
    "data[\"author\"] = \"Sagan, Carl\"\n",
    "params = urlencode(data).encode(\"UTF-8\") # same urlencode method\n",
    "url = \"http://adsabs.harvard.edu/cgi-bin/nph-abs_connect\"\n",
    "response = urlopen(url, params) \n",
    "# POST request is indicated by including the params in urlopen\n",
    "html = response.read()\n",
    "response.close()\n",
    "print(html[16474:19000])"
   ]
  },
  {
   "cell_type": "markdown",
   "metadata": {},
   "source": [
    "## Basic Authenitication\n",
    "\n",
    "```python\n",
    "from urllib.request import HTTPBasicAuthHandler, build_opener, install_opener, urlopen\n",
    "auth_handler = HTTPBasicAuthHandler()\n",
    "auth_handler.add_password(\"realm\", \"example.com\", \n",
    "       \"username\", \"password\")\n",
    "opener = build_opener(auth_handler)\n",
    "\n",
    "# ...install it globally so it can be used with urlopen.\n",
    "install_opener(opener)\n",
    "urlopen('http://www.example.com/login.html')\n",
    "```\n",
    "\n",
    "Browsers handle this by popping up a dialog box requesting you to “Enter user name and password for “realm” at http://example.com”.\n",
    "\n",
    "## Form based Authentication\n",
    "\n",
    "```python\n",
    "from urllib.request import HTTPBasicAuthHandler, build_opener, install_opener, urlopen, HTTPCookieProcessor\n",
    "from urllib.parse import urlencode\n",
    "opener = build_opener(HTTPCookieProcessor())\n",
    "params = urlencode(dict(username=\"uname\", password=\"pswd\"))\n",
    "response = opener.open(\"http://example.com/login/\", params)\n",
    "data = response.read()\n",
    "response.close()\n",
    "response = opener.open(\"http://example.com/my/protected/page.html\")\n",
    "data = response.read()\n",
    "response.close()\n",
    "```\n",
    "\n",
    "Login information is stored in a cookie and included in subsequent requests. The opener is used to POST to the login form and the protected page.\n",
    "\n",
    "See also:\n",
    "  - *RoboBrowser*: Your friendly neighborhood web scraper (http://robobrowser.readthedocs.org/)\n",
    "  - *MechanicalSoup*: A Python library for automating interaction with websites (https://github.com/hickford/MechanicalSoup)"
   ]
  },
  {
   "cell_type": "markdown",
   "metadata": {},
   "source": [
    "## Requests\n",
    "\n",
    "Most modern web interactions are complicated. `requests` is your friend\n",
    "\n",
    "\n",
    "```python\n",
    "requests.get('https://api.github.com/user', \\\n",
    "              auth=('user', 'pass'))\n",
    "```\n",
    "streaming, keep-alive, etc.\n",
    "\n",
    "http://docs.python-requests.org/en/latest/user/advanced/"
   ]
  },
  {
   "cell_type": "markdown",
   "metadata": {},
   "source": [
    "# Access an FTP server"
   ]
  },
  {
   "cell_type": "code",
   "execution_count": 8,
   "metadata": {
    "collapsed": false
   },
   "outputs": [
    {
     "data": {
      "text/plain": [
       "'230 User logged in.'"
      ]
     },
     "execution_count": 8,
     "metadata": {},
     "output_type": "execute_result"
    }
   ],
   "source": [
    "import ftplib\n",
    "ftp = ftplib.FTP(\"ftp.cdc.gov\")\n",
    "ftp.login()"
   ]
  },
  {
   "cell_type": "code",
   "execution_count": 9,
   "metadata": {
    "collapsed": false
   },
   "outputs": [
    {
     "data": {
      "text/plain": [
       "'250 CWD command successful.'"
      ]
     },
     "execution_count": 9,
     "metadata": {},
     "output_type": "execute_result"
    }
   ],
   "source": [
    "ftp.cwd(\"/pub/OPD\")"
   ]
  },
  {
   "cell_type": "code",
   "execution_count": 10,
   "metadata": {
    "collapsed": false
   },
   "outputs": [
    {
     "name": "stdout",
     "output_type": "stream",
     "text": [
      "drwxrwxrwx   1 owner    group               0 Aug 31 14:32 Susanna\n",
      "drwxrwxrwx   1 owner    group               0 Sep  1 13:01 T48700\n"
     ]
    }
   ],
   "source": [
    "ftp.dir()"
   ]
  },
  {
   "cell_type": "code",
   "execution_count": 11,
   "metadata": {
    "collapsed": false
   },
   "outputs": [
    {
     "data": {
      "text/plain": [
       "'250 CWD command successful.'"
      ]
     },
     "execution_count": 11,
     "metadata": {},
     "output_type": "execute_result"
    }
   ],
   "source": [
    "ftp.cwd(\"Susanna\")"
   ]
  },
  {
   "cell_type": "code",
   "execution_count": 12,
   "metadata": {
    "collapsed": false
   },
   "outputs": [
    {
     "name": "stdout",
     "output_type": "stream",
     "text": [
      "-rwxrwxrwx   1 owner    group        76730058 Aug 31 14:32 01 TABLE BANNER 51305-51441-ZIKA-OOH-COMUNIDAD-INGLES_JM_PRINT.pdf\n",
      "-rwxrwxrwx   1 owner    group         5158278 Aug 31 14:32 02 STAND BANNER 51357-51441-ZIKA-GFR-300x600_PRINT.pdf\n",
      "-rwxrwxrwx   1 owner    group        80219177 Aug 31 14:32 03A POSTER 51547-51441-ZIKA-FP-MUJER_NIN¦âA-INGLES_JM_PRINT.pdf\n",
      "-rwxrwxrwx   1 owner    group        53729873 Aug 31 14:32 03B POSTER 51548-ZIKA-FP-END-EMBARASADA-INGLES_JM_PRINT.pdf\n",
      "-rwxrwxrwx   1 owner    group        18281007 Aug 31 14:32 10ft-poster-2.pdf\n",
      "-rwxrwxrwx   1 owner    group         1559395 Aug 31 14:32 51488-ZIKA-36x84_Table Banner.pdf\n",
      "-rwxrwxrwx   1 owner    group         4098323 Aug 31 14:32 SIKA_BANNER_7X3_reduced.pdf\n",
      "-rwxrwxrwx   1 owner    group         1443729 Aug 31 14:32 standing_banner_7x3_v1_dual - Copy.pdf\n"
     ]
    }
   ],
   "source": [
    "ftp.dir()"
   ]
  },
  {
   "cell_type": "code",
   "execution_count": 13,
   "metadata": {
    "collapsed": false
   },
   "outputs": [
    {
     "data": {
      "text/plain": [
       "'226 Transfer complete.'"
      ]
     },
     "execution_count": 13,
     "metadata": {},
     "output_type": "execute_result"
    }
   ],
   "source": [
    "ftp.retrbinary('RETR SIKA_BANNER_7X3_reduced.pdf', open('zika.pdf', 'wb').write)"
   ]
  },
  {
   "cell_type": "code",
   "execution_count": 14,
   "metadata": {
    "collapsed": true
   },
   "outputs": [],
   "source": [
    "pwd = !pwd"
   ]
  },
  {
   "cell_type": "code",
   "execution_count": 15,
   "metadata": {
    "collapsed": false
   },
   "outputs": [
    {
     "data": {
      "text/plain": [
       "True"
      ]
     },
     "execution_count": 15,
     "metadata": {},
     "output_type": "execute_result"
    }
   ],
   "source": [
    "import webbrowser\n",
    "\n",
    "webbrowser.open_new('file://{}/zika.pdf'.format(pwd[0]))"
   ]
  },
  {
   "cell_type": "markdown",
   "metadata": {},
   "source": [
    "# HTML Overview\n",
    "\n",
    " - HyperText Markup Language\n",
    " - The code in which webpages are written\n",
    " - Consists of tags surrounded by angled brackets, < and >\n",
    " - An HTML document has a hierarchy enforced by the ordering and nesting of tags\n",
    " - It can be thought of like a tree with branches\n",
    " \n",
    " Examples at \n",
    "http://www.w3schools.com/html/html_examples.asp\n",
    "http://www.sheldonbrown.com/web_sample1.html\n",
    "\n",
    "Let's take a look at a page: http://vizier.u-strasbg.fr/viz-bin/VizieR-3?-source=I/337/gaia"
   ]
  },
  {
   "cell_type": "markdown",
   "metadata": {},
   "source": [
    "## html5lib"
   ]
  },
  {
   "cell_type": "code",
   "execution_count": 25,
   "metadata": {
    "collapsed": false
   },
   "outputs": [],
   "source": [
    "import html5lib\n",
    "response = urlopen(\"http://words.bighugelabs.com/\")\n",
    "html = response.read()\n",
    "doc = html5lib.parse(html)"
   ]
  },
  {
   "cell_type": "markdown",
   "metadata": {},
   "source": [
    "- doc is now a tree in “simpletree” format. \n",
    "- html5lib also supports minidom, ElementTree, lxml, and BeautifulSoup tree formats.\n",
    "- lxml, in particular, is good for creating well-formed html and xml."
   ]
  },
  {
   "cell_type": "markdown",
   "metadata": {},
   "source": [
    "# Parsing HTML with BeautifulSoup\n",
    "\n",
    "Beautiful Soup parses a (possibly invalid) XML or HTML document into a tree representation. It provides methods and Pythonic idioms that make it easy to navigate, search, and modify the tree.\n",
    "\n",
    "\n",
    "See: http://www.crummy.com/software/BeautifulSoup/bs4/doc/"
   ]
  },
  {
   "cell_type": "code",
   "execution_count": 24,
   "metadata": {
    "collapsed": false
   },
   "outputs": [
    {
     "data": {
      "text/plain": [
       "[<form><input id=\"searchBox\" name=\"q\" type=\"text\"/></form>]"
      ]
     },
     "execution_count": 24,
     "metadata": {},
     "output_type": "execute_result"
    }
   ],
   "source": [
    "try:\n",
    "    # For Python 3.0 and later\n",
    "    from urllib.request import urlopen\n",
    "except ImportError:\n",
    "    # Fall back to Python 2's urllib2\n",
    "    from urllib2 import urlopen\n",
    "    \n",
    "response = urlopen(\"http://words.bighugelabs.com/\")\n",
    "html = response.read()\n",
    "response.close()\n",
    "\n",
    "# pip install beautifulsoup4\n",
    "from bs4 import BeautifulSoup\n",
    "soup = BeautifulSoup(html,\"html5lib\")\n",
    "forms = soup.findAll(\"form\")\n",
    "forms"
   ]
  },
  {
   "cell_type": "code",
   "execution_count": 17,
   "metadata": {
    "collapsed": false
   },
   "outputs": [
    {
     "name": "stdout",
     "output_type": "stream",
     "text": [
      "b'<!DOCTYPE html>\\n<html>\\n<head>\\n<meta http-equiv=\"Content-type\" content=\"text/html; charset=utf-8\">\\n<title>Big Huge Thesaurus: Synonyms, antonyms, and rhymes (oh my!)</title>\\n<meta name=\"description\" content=\"Get english synonyms, antonyms, sound-alike, and rhyming words from the Big Huge Thesaurus.\">\\n<link rel=\"shortcut icon\" href=\"/images/favicon.ico\">\\n<link rel=\"apple-touch-icon\" href=\"/images/apple-touch-icon.png\">\\n<meta name=\"viewport\" content=\"width=device-width\">\\n<script type=\"text/javascript\" src=\"//ajax.googleapis.com/ajax/libs/jquery/1.7.2/jquery.min.js\"></script>\\n<link rel=\"stylesheet\" href=\"//netdna.bootstrapcdn.com/bootstrap/3.0.3/css/bootstrap.min.css\">\\n<script src=\"//netdna.bootstrapcdn.com/bootstrap/3.0.3/js/bootstrap.min.js\"></script>\\n<link href=\"//netdna.bootstrapcdn.com/font-awesome/4.0.3/css/font-awesome.css\" rel=\"stylesheet\">\\n<link href=\\'//fonts.googleapis.com/css?family=PT+Sans:400,700,400italic|PT+Serif:400,700,400italic\\' rel=\\'stylesheet\\' type=\\'text/css\\'>\\n<link rel=\"stylesheet\" type=\"text/css\" href=\"/css/main.css?v=1437429883\" media=\"screen, print\">\\n<script src=\"/js/words.js?v=1387578198\"></script>\\n<script>\\n  (function(i,s,o,g,r,a,m){i[\\'GoogleAnalyticsObject\\']=r;i[r]=i[r]||function(){\\n  (i[r].q=i[r].q||[]).push(arguments)},i[r].l=1*new Date();a=s.createElement(o),\\n  m=s.getElementsByTagName(o)[0];a.async=1;a.src=g;m.parentNode.insertBefore(a,m)\\n  })(window,document,\\'script\\',\\'//www.google-analytics.com/analytics.js\\',\\'ga\\');\\n\\n  ga(\\'create\\', \\'UA-53154-15\\', \\'bighugelabs.com\\');\\n  ga(\\'send\\', \\'pageview\\');\\n</script>\\n</head>\\n<body>\\n<script type=\"text/javascript\">\\nwindow.google_analytics_uacct = \"UA-53154-15\";\\n</script>\\n\\n  <div id=\"wrap\">\\n\\n    <div id=\"header\">\\n      <h1>\\n        <a href=\"/\">Big Huge Thesaurus</a>\\n      </h1>\\n      <p>\\n        <a href=\"/\">Thesaurus</a>\\n        \\xc2\\xb7\\n        <a href=\"/plot.php\">Story plot generator</a>\\n      </p>\\n      </p>\\n    </div>\\n\\n    <div id=\"content\">\\n      <script>\\nfunction lookup() {\\n  document.location = \\'/\\'+escape($(\\'#q\\').val());\\n  return false;\\n}\\n\\n$(document).ready(function() {\\n  $(\\'#q\\').focus();\\n})\\n</script>\\n\\n<div class=\"center\">\\n  <form id=\"inputform\" action=\"/\" method=\"get\" onsubmit=\"return lookup()\">\\n    <input id=\"q\" name=\"q\" class=\"form-control\" value=\"\">\\n    <input type=\"submit\" value=\"Lookup\" class=\"btn btn-primary\">\\n  </form>\\n</div>\\n\\n\\n</div>\\n<!-- content -->\\n\\n<div class=\"clear\"></div>\\n\\n<div id=\"footer\">\\n  <p>\\n    <a href=\"/about.php\">About this site</a>\\n    \\xc2\\xb7\\n    <a href=\"/api.php\">API</a>\\n    \\xc2\\xb7\\n    <a href=\"/privacy.php\">Privacy</a>\\n     \\xc2\\xb7 <a href=\"/login.php\">Sign in</a>  </p>\\n  <p>\\n    Copyright &copy;\\n    2016    <a href=\"http://watson-net.com\">John Watson, LLC</a>. All Rights\\n    Reserved.\\n  </p>\\n</div>\\n\\n</div>\\n<!-- wrap -->\\n\\n<script>\\n$(document).ready(function() {\\n    if ($(\\'[data-toggle=\"tooltip\"]\\').length) {\\n      $(\\'[data-toggle=\"tooltip\"]\\').tooltip();\\n    }\\n    if ($(\\'[data-toggle=\"popover\"]\\').length) {\\n      $(\\'[data-toggle=\"popover\"]\\').popover();\\n    }\\n});\\n</script>\\n\\n<!-- Modal -->\\n<div class=\"modal fade\" id=\"modalDialog\" tabindex=\"-1\" role=\"dialog\" aria-labelledby=\"modalDialogLabel\" aria-hidden=\"true\">\\n  <div class=\"modal-dialog\">\\n    <div class=\"modal-content\">\\n      <div class=\"modal-header\">\\n        <button type=\"button\" class=\"close\" data-dismiss=\"modal\" aria-hidden=\"true\">&times;</button>\\n        <h4 class=\"modal-title\" id=\"modalDialogLabel\"></h4>\\n      </div>\\n      <div class=\"modal-body\"></div>\\n      <div class=\"modal-footer\">\\n        <button type=\"button\" class=\"btn btn-default\" data-dismiss=\"modal\">Cancel</button>\\n        <button type=\"button\" class=\"btn btn-primary\">Save</button>\\n        <button type=\"button\" class=\"btn btn-danger\">Delete</button>\\n      </div>\\n    </div><!-- /.modal-content -->\\n  </div><!-- /.modal-dialog -->\\n</div><!-- /.modal -->\\n\\n</body>\\n</html>\\n'\n"
     ]
    }
   ],
   "source": [
    "\n",
    "print(html)"
   ]
  },
  {
   "cell_type": "code",
   "execution_count": 18,
   "metadata": {
    "collapsed": false
   },
   "outputs": [
    {
     "name": "stdout",
     "output_type": "stream",
     "text": [
      "<form action=\"/\" id=\"inputform\" method=\"get\" onsubmit=\"return lookup()\">\n",
      "    <input class=\"form-control\" id=\"q\" name=\"q\" value=\"\"/>\n",
      "    <input class=\"btn btn-primary\" type=\"submit\" value=\"Lookup\"/>\n",
      "  </form>\n"
     ]
    }
   ],
   "source": [
    "links = soup.findAll(\"form\")\n",
    "for link in links:\n",
    "    print(link)"
   ]
  },
  {
   "cell_type": "markdown",
   "metadata": {},
   "source": [
    "Let's load up a whole bunch of baby names, by combining scripted webpage access with BeautifulSoup:"
   ]
  },
  {
   "cell_type": "code",
   "execution_count": 26,
   "metadata": {
    "collapsed": false
   },
   "outputs": [],
   "source": [
    "from bs4 import BeautifulSoup\n",
    "url = \"http://nameberry.com/search/boys_names/J\"\n",
    "response = urlopen(url)\n",
    "html = response.read()\n",
    "response.close()\n",
    "soup = BeautifulSoup(html,\"html.parser\")"
   ]
  },
  {
   "cell_type": "code",
   "execution_count": 27,
   "metadata": {
    "collapsed": false
   },
   "outputs": [
    {
     "name": "stdout",
     "output_type": "stream",
     "text": [
      "[<li class=\"name_in_list grid__cell unit-4-12--med unit-3-12--wideload simple-result\"><h4><a class=\"name_link boy\" href=\"/babyname/Jaap\" target=\"_top\">Jaap</a></h4></li>, <li class=\"name_in_list grid__cell unit-4-12--med unit-3-12--wideload simple-result\"><h4><a class=\"name_link boy\" href=\"/babyname/Jabari\" target=\"_top\">Jabari</a></h4></li>, <li class=\"name_in_list grid__cell unit-4-12--med unit-3-12--wideload simple-result\"><h4><a class=\"name_link boy\" href=\"/babyname/Jabbar\" target=\"_top\">Jabbar</a></h4></li>, <li class=\"name_in_list grid__cell unit-4-12--med unit-3-12--wideload simple-result\"><h4><a class=\"name_link boy\" href=\"/babyname/Jabez\" target=\"_top\">Jabez</a></h4></li>, <li class=\"name_in_list grid__cell unit-4-12--med unit-3-12--wideload simple-result\"><h4><a class=\"name_link boy\" href=\"/babyname/Jabin\" target=\"_top\">Jabin</a></h4></li>, <li class=\"name_in_list grid__cell unit-4-12--med unit-3-12--wideload simple-result\"><h4><a class=\"name_link boy\" href=\"/babyname/Jabiru\" target=\"_top\">Jabiru</a></h4></li>, <li class=\"name_in_list grid__cell unit-4-12--med unit-3-12--wideload simple-result\"><h4><a class=\"name_link boy\" href=\"/babyname/Jac\" target=\"_top\">Jac</a></h4></li>, <li class=\"name_in_list grid__cell unit-4-12--med unit-3-12--wideload simple-result\"><h4><a class=\"name_link boy\" href=\"/babyname/Jacca\" target=\"_top\">Jacca</a></h4></li>, <li class=\"name_in_list grid__cell unit-4-12--med unit-3-12--wideload simple-result\"><h4><a class=\"name_link unisex\" href=\"/babyname/Jace\" target=\"_top\">Jace</a></h4></li>, <li class=\"name_in_list grid__cell unit-4-12--med unit-3-12--wideload simple-result\"><h4><a class=\"name_link boy\" href=\"/babyname/Jachin\" target=\"_top\">Jachin</a></h4></li>, <li class=\"name_in_list grid__cell unit-4-12--med unit-3-12--wideload simple-result\"><h4><a class=\"name_link boy\" href=\"/babyname/Jacinto\" target=\"_top\">Jacinto</a></h4></li>, <li class=\"name_in_list grid__cell unit-4-12--med unit-3-12--wideload simple-result\"><h4><a class=\"name_link boy\" href=\"/babyname/Jack\" target=\"_top\">Jack</a></h4></li>, <li class=\"name_in_list grid__cell unit-4-12--med unit-3-12--wideload simple-result\"><h4><a class=\"name_link boy\" href=\"/babyname/Jackson\" target=\"_top\">Jackson</a></h4></li>, <li class=\"name_in_list grid__cell unit-4-12--med unit-3-12--wideload simple-result\"><h4><a class=\"name_link boy\" href=\"/babyname/Jaco\" target=\"_top\">Jaco</a></h4></li>, <li class=\"name_in_list grid__cell unit-4-12--med unit-3-12--wideload simple-result\"><h4><a class=\"name_link boy\" href=\"/babyname/Jacob\" target=\"_top\">Jacob</a></h4></li>, <li class=\"name_in_list grid__cell unit-4-12--med unit-3-12--wideload simple-result\"><h4><a class=\"name_link boy\" href=\"/babyname/Jacobo\" target=\"_top\">Jacobo</a></h4></li>, <li class=\"name_in_list grid__cell unit-4-12--med unit-3-12--wideload simple-result\"><h4><a class=\"name_link boy\" href=\"/babyname/Jacoby\" target=\"_top\">Jacoby</a></h4></li>, <li class=\"name_in_list grid__cell unit-4-12--med unit-3-12--wideload simple-result\"><h4><a class=\"name_link boy\" href=\"/babyname/Jacques\" target=\"_top\">Jacques</a></h4></li>, <li class=\"name_in_list grid__cell unit-4-12--med unit-3-12--wideload simple-result\"><h4><a class=\"name_link unisex\" href=\"/babyname/Jaden\" target=\"_top\">Jaden</a></h4></li>, <li class=\"name_in_list grid__cell unit-4-12--med unit-3-12--wideload simple-result\"><h4><a class=\"name_link boy\" href=\"/babyname/Jadiel\" target=\"_top\">Jadiel</a></h4></li>, <li class=\"name_in_list grid__cell unit-4-12--med unit-3-12--wideload simple-result\"><h4><a class=\"name_link unisex\" href=\"/babyname/Jadon\" target=\"_top\">Jadon</a></h4></li>, <li class=\"name_in_list grid__cell unit-4-12--med unit-3-12--wideload simple-result\"><h4><a class=\"name_link unisex\" href=\"/babyname/Jael\" target=\"_top\">Jael</a></h4></li>, <li class=\"name_in_list grid__cell unit-4-12--med unit-3-12--wideload simple-result\"><h4><a class=\"name_link unisex\" href=\"/babyname/Jagger\" target=\"_top\">Jagger</a></h4></li>, <li class=\"name_in_list grid__cell unit-4-12--med unit-3-12--wideload simple-result\"><h4><a class=\"name_link boy\" href=\"/babyname/Jago\" target=\"_top\">Jago</a></h4></li>, <li class=\"name_in_list grid__cell unit-4-12--med unit-3-12--wideload simple-result\"><h4><a class=\"name_link boy\" href=\"/babyname/Jaguar\" target=\"_top\">Jaguar</a></h4></li>, <li class=\"name_in_list grid__cell unit-4-12--med unit-3-12--wideload simple-result\"><h4><a class=\"name_link boy\" href=\"/babyname/Jahan\" target=\"_top\">Jahan</a></h4></li>, <li class=\"name_in_list grid__cell unit-4-12--med unit-3-12--wideload simple-result\"><h4><a class=\"name_link boy\" href=\"/babyname/Jaheim\" target=\"_top\">Jaheim</a></h4></li>, <li class=\"name_in_list grid__cell unit-4-12--med unit-3-12--wideload simple-result\"><h4><a class=\"name_link unisex\" href=\"/babyname/Jaiden\" target=\"_top\">Jaiden</a></h4></li>, <li class=\"name_in_list grid__cell unit-4-12--med unit-3-12--wideload simple-result\"><h4><a class=\"name_link unisex\" href=\"/babyname/Jaime\" target=\"_top\">Jaime</a></h4></li>, <li class=\"name_in_list grid__cell unit-4-12--med unit-3-12--wideload simple-result\"><h4><a class=\"name_link boy\" href=\"/babyname/Jair\" target=\"_top\">Jair</a></h4></li>, <li class=\"name_in_list grid__cell unit-4-12--med unit-3-12--wideload simple-result\"><h4><a class=\"name_link boy\" href=\"/babyname/Jairo\" target=\"_top\">Jairo</a></h4></li>, <li class=\"name_in_list grid__cell unit-4-12--med unit-3-12--wideload simple-result\"><h4><a class=\"name_link boy\" href=\"/babyname/Jairus\" target=\"_top\">Jairus</a></h4></li>, <li class=\"name_in_list grid__cell unit-4-12--med unit-3-12--wideload simple-result\"><h4><a class=\"name_link boy\" href=\"/babyname/Jaka\" target=\"_top\">Jaka</a></h4></li>, <li class=\"name_in_list grid__cell unit-4-12--med unit-3-12--wideload simple-result\"><h4><a class=\"name_link boy\" href=\"/babyname/Jake\" target=\"_top\">Jake</a></h4></li>, <li class=\"name_in_list grid__cell unit-4-12--med unit-3-12--wideload simple-result\"><h4><a class=\"name_link boy\" href=\"/babyname/Jakez\" target=\"_top\">Jakez</a></h4></li>, <li class=\"name_in_list grid__cell unit-4-12--med unit-3-12--wideload simple-result\"><h4><a class=\"name_link boy\" href=\"/babyname/Jakob\" target=\"_top\">Jakob</a></h4></li>, <li class=\"name_in_list grid__cell unit-4-12--med unit-3-12--wideload simple-result\"><h4><a class=\"name_link unisex\" href=\"/babyname/Jakobe\" target=\"_top\">Jakobe</a></h4></li>, <li class=\"name_in_list grid__cell unit-4-12--med unit-3-12--wideload simple-result\"><h4><a class=\"name_link unisex\" href=\"/babyname/Jalen\" target=\"_top\">Jalen</a></h4></li>, <li class=\"name_in_list grid__cell unit-4-12--med unit-3-12--wideload simple-result\"><h4><a class=\"name_link boy\" href=\"/babyname/Jalmari\" target=\"_top\">Jalmari</a></h4></li>, <li class=\"name_in_list grid__cell unit-4-12--med unit-3-12--wideload simple-result\"><h4><a class=\"name_link boy\" href=\"/babyname/Jamal\" target=\"_top\">Jamal</a></h4></li>, <li class=\"name_in_list grid__cell unit-4-12--med unit-3-12--wideload simple-result\"><h4><a class=\"name_link boy\" href=\"/babyname/Jamar\" target=\"_top\">Jamar</a></h4></li>, <li class=\"name_in_list grid__cell unit-4-12--med unit-3-12--wideload simple-result\"><h4><a class=\"name_link boy\" href=\"/babyname/Jamari\" target=\"_top\">Jamari</a></h4></li>, <li class=\"name_in_list grid__cell unit-4-12--med unit-3-12--wideload simple-result\"><h4><a class=\"name_link boy\" href=\"/babyname/Jamarion\" target=\"_top\">Jamarion</a></h4></li>, <li class=\"name_in_list grid__cell unit-4-12--med unit-3-12--wideload simple-result\"><h4><a class=\"name_link unisex\" href=\"/babyname/James\" target=\"_top\">James</a></h4></li>, <li class=\"name_in_list grid__cell unit-4-12--med unit-3-12--wideload simple-result\"><h4><a class=\"name_link unisex\" href=\"/babyname/Jameson\" target=\"_top\">Jameson</a></h4></li>, <li class=\"name_in_list grid__cell unit-4-12--med unit-3-12--wideload simple-result\"><h4><a class=\"name_link unisex\" href=\"/babyname/Jamie\" target=\"_top\">Jamie</a></h4></li>, <li class=\"name_in_list grid__cell unit-4-12--med unit-3-12--wideload simple-result\"><h4><a class=\"name_link boy\" href=\"/babyname/Jamieson\" target=\"_top\">Jamieson</a></h4></li>, <li class=\"name_in_list grid__cell unit-4-12--med unit-3-12--wideload simple-result\"><h4><a class=\"name_link boy\" href=\"/babyname/Jamil\" target=\"_top\">Jamil</a></h4></li>, <li class=\"name_in_list grid__cell unit-4-12--med unit-3-12--wideload simple-result\"><h4><a class=\"name_link boy\" href=\"/babyname/Jamir\" target=\"_top\">Jamir</a></h4></li>, <li class=\"name_in_list grid__cell unit-4-12--med unit-3-12--wideload simple-result\"><h4><a class=\"name_link unisex\" href=\"/babyname/Jamison\" target=\"_top\">Jamison</a></h4></li>, <li class=\"name_in_list grid__cell unit-4-12--med unit-3-12--wideload simple-result\"><h4><a class=\"name_link unisex\" href=\"/babyname/Jan\" target=\"_top\">Jan</a></h4></li>, <li class=\"name_in_list grid__cell unit-4-12--med unit-3-12--wideload simple-result\"><h4><a class=\"name_link boy\" href=\"/babyname/Janek\" target=\"_top\">Janek</a></h4></li>, <li class=\"name_in_list grid__cell unit-4-12--med unit-3-12--wideload simple-result\"><h4><a class=\"name_link unisex\" href=\"/babyname/Janne\" target=\"_top\">Janne</a></h4></li>, <li class=\"name_in_list grid__cell unit-4-12--med unit-3-12--wideload simple-result\"><h4><a class=\"name_link boy\" href=\"/babyname/Jannick\" target=\"_top\">Jannick</a></h4></li>, <li class=\"name_in_list grid__cell unit-4-12--med unit-3-12--wideload simple-result\"><h4><a class=\"name_link unisex\" href=\"/babyname/Jannik\" target=\"_top\">Jannik</a></h4></li>, <li class=\"name_in_list grid__cell unit-4-12--med unit-3-12--wideload simple-result\"><h4><a class=\"name_link boy\" href=\"/babyname/Janos\" target=\"_top\">Janos</a></h4></li>, <li class=\"name_in_list grid__cell unit-4-12--med unit-3-12--wideload simple-result\"><h4><a class=\"name_link boy\" href=\"/babyname/Janson\" target=\"_top\">Janson</a></h4></li>, <li class=\"name_in_list grid__cell unit-4-12--med unit-3-12--wideload simple-result\"><h4><a class=\"name_link boy\" href=\"/babyname/Jantzen\" target=\"_top\">Jantzen</a></h4></li>, <li class=\"name_in_list grid__cell unit-4-12--med unit-3-12--wideload simple-result\"><h4><a class=\"name_link unisex\" href=\"/babyname/January\" target=\"_top\">January</a></h4></li>, <li class=\"name_in_list grid__cell unit-4-12--med unit-3-12--wideload simple-result\"><h4><a class=\"name_link boy\" href=\"/babyname/Janus\" target=\"_top\">Janus</a></h4></li>, <li class=\"name_in_list grid__cell unit-4-12--med unit-3-12--wideload simple-result\"><h4><a class=\"name_link boy\" href=\"/babyname/Japheth\" target=\"_top\">Japheth</a></h4></li>, <li class=\"name_in_list grid__cell unit-4-12--med unit-3-12--wideload simple-result\"><h4><a class=\"name_link boy\" href=\"/babyname/Japhy\" target=\"_top\">Japhy</a></h4></li>, <li class=\"name_in_list grid__cell unit-4-12--med unit-3-12--wideload simple-result\"><h4><a class=\"name_link boy\" href=\"/babyname/Jarah\" target=\"_top\">Jarah</a></h4></li>, <li class=\"name_in_list grid__cell unit-4-12--med unit-3-12--wideload simple-result\"><h4><a class=\"name_link boy\" href=\"/babyname/Jareb\" target=\"_top\">Jareb</a></h4></li>, <li class=\"name_in_list grid__cell unit-4-12--med unit-3-12--wideload simple-result\"><h4><a class=\"name_link boy\" href=\"/babyname/Jared\" target=\"_top\">Jared</a></h4></li>, <li class=\"name_in_list grid__cell unit-4-12--med unit-3-12--wideload simple-result\"><h4><a class=\"name_link boy\" href=\"/babyname/Jarek\" target=\"_top\">Jarek</a></h4></li>, <li class=\"name_in_list grid__cell unit-4-12--med unit-3-12--wideload simple-result\"><h4><a class=\"name_link boy\" href=\"/babyname/Jareth\" target=\"_top\">Jareth</a></h4></li>, <li class=\"name_in_list grid__cell unit-4-12--med unit-3-12--wideload simple-result\"><h4><a class=\"name_link boy\" href=\"/babyname/Jari\" target=\"_top\">Jari</a></h4></li>, <li class=\"name_in_list grid__cell unit-4-12--med unit-3-12--wideload simple-result\"><h4><a class=\"name_link boy\" href=\"/babyname/Jarl\" target=\"_top\">Jarl</a></h4></li>, <li class=\"name_in_list grid__cell unit-4-12--med unit-3-12--wideload simple-result\"><h4><a class=\"name_link boy\" href=\"/babyname/Jarlath\" target=\"_top\">Jarlath</a></h4></li>, <li class=\"name_in_list grid__cell unit-4-12--med unit-3-12--wideload simple-result\"><h4><a class=\"name_link boy\" href=\"/babyname/Jarman\" target=\"_top\">Jarman</a></h4></li>, <li class=\"name_in_list grid__cell unit-4-12--med unit-3-12--wideload simple-result\"><h4><a class=\"name_link boy\" href=\"/babyname/Jaron\" target=\"_top\">Jaron</a></h4></li>, <li class=\"name_in_list grid__cell unit-4-12--med unit-3-12--wideload simple-result\"><h4><a class=\"name_link unisex\" href=\"/babyname/Jarrah\" target=\"_top\">Jarrah</a></h4></li>, <li class=\"name_in_list grid__cell unit-4-12--med unit-3-12--wideload simple-result\"><h4><a class=\"name_link unisex\" href=\"/babyname/Jarrell\" target=\"_top\">Jarrell</a></h4></li>, <li class=\"name_in_list grid__cell unit-4-12--med unit-3-12--wideload simple-result\"><h4><a class=\"name_link boy\" href=\"/babyname/Jarrett\" target=\"_top\">Jarrett</a></h4></li>, <li class=\"name_in_list grid__cell unit-4-12--med unit-3-12--wideload simple-result\"><h4><a class=\"name_link boy\" href=\"/babyname/Jarvis\" target=\"_top\">Jarvis</a></h4></li>, <li class=\"name_in_list grid__cell unit-4-12--med unit-3-12--wideload simple-result\"><h4><a class=\"name_link boy\" href=\"/babyname/Jase\" target=\"_top\">Jase</a></h4></li>, <li class=\"name_in_list grid__cell unit-4-12--med unit-3-12--wideload simple-result\"><h4><a class=\"name_link boy\" href=\"/babyname/Jasiah\" target=\"_top\">Jasiah</a></h4></li>, <li class=\"name_in_list grid__cell unit-4-12--med unit-3-12--wideload simple-result\"><h4><a class=\"name_link boy\" href=\"/babyname/Jasiel\" target=\"_top\">Jasiel</a></h4></li>, <li class=\"name_in_list grid__cell unit-4-12--med unit-3-12--wideload simple-result\"><h4><a class=\"name_link boy\" href=\"/babyname/Jason\" target=\"_top\">Jason</a></h4></li>, <li class=\"name_in_list grid__cell unit-4-12--med unit-3-12--wideload simple-result\"><h4><a class=\"name_link boy\" href=\"/babyname/Jasper\" target=\"_top\">Jasper</a></h4></li>, <li class=\"name_in_list grid__cell unit-4-12--med unit-3-12--wideload simple-result\"><h4><a class=\"name_link boy\" href=\"/babyname/Jati\" target=\"_top\">Jati</a></h4></li>, <li class=\"name_in_list grid__cell unit-4-12--med unit-3-12--wideload simple-result\"><h4><a class=\"name_link boy\" href=\"/babyname/Javan\" target=\"_top\">Javan</a></h4></li>, <li class=\"name_in_list grid__cell unit-4-12--med unit-3-12--wideload simple-result\"><h4><a class=\"name_link boy\" href=\"/babyname/Javelin\" target=\"_top\">Javelin</a></h4></li>, <li class=\"name_in_list grid__cell unit-4-12--med unit-3-12--wideload simple-result\"><h4><a class=\"name_link boy\" href=\"/babyname/Javier\" target=\"_top\">Javier</a></h4></li>, <li class=\"name_in_list grid__cell unit-4-12--med unit-3-12--wideload simple-result\"><h4><a class=\"name_link boy\" href=\"/babyname/Javin\" target=\"_top\">Javin</a></h4></li>, <li class=\"name_in_list grid__cell unit-4-12--med unit-3-12--wideload simple-result\"><h4><a class=\"name_link boy\" href=\"/babyname/Javion\" target=\"_top\">Javion</a></h4></li>, <li class=\"name_in_list grid__cell unit-4-12--med unit-3-12--wideload simple-result\"><h4><a class=\"name_link boy\" href=\"/babyname/Javon\" target=\"_top\">Javon</a></h4></li>, <li class=\"name_in_list grid__cell unit-4-12--med unit-3-12--wideload simple-result\"><h4><a class=\"name_link boy\" href=\"/babyname/Javor\" target=\"_top\">Javor</a></h4></li>, <li class=\"name_in_list grid__cell unit-4-12--med unit-3-12--wideload simple-result\"><h4><a class=\"name_link boy\" href=\"/babyname/Jax\" target=\"_top\">Jax</a></h4></li>, <li class=\"name_in_list grid__cell unit-4-12--med unit-3-12--wideload simple-result\"><h4><a class=\"name_link boy\" href=\"/babyname/Jaxen\" target=\"_top\">Jaxen</a></h4></li>, <li class=\"name_in_list grid__cell unit-4-12--med unit-3-12--wideload simple-result\"><h4><a class=\"name_link boy\" href=\"/babyname/Jaxon\" target=\"_top\">Jaxon</a></h4></li>, <li class=\"name_in_list grid__cell unit-4-12--med unit-3-12--wideload simple-result\"><h4><a class=\"name_link boy\" href=\"/babyname/Jaxson\" target=\"_top\">Jaxson</a></h4></li>, <li class=\"name_in_list grid__cell unit-4-12--med unit-3-12--wideload simple-result\"><h4><a class=\"name_link boy\" href=\"/babyname/Jaxton\" target=\"_top\">Jaxton</a></h4></li>, <li class=\"name_in_list grid__cell unit-4-12--med unit-3-12--wideload simple-result\"><h4><a class=\"name_link unisex\" href=\"/babyname/Jay\" target=\"_top\">Jay</a></h4></li>, <li class=\"name_in_list grid__cell unit-4-12--med unit-3-12--wideload simple-result\"><h4><a class=\"name_link boy\" href=\"/babyname/Jayce\" target=\"_top\">Jayce</a></h4></li>, <li class=\"name_in_list grid__cell unit-4-12--med unit-3-12--wideload simple-result\"><h4><a class=\"name_link boy\" href=\"/babyname/Jayceon\" target=\"_top\">Jayceon</a></h4></li>, <li class=\"name_in_list grid__cell unit-4-12--med unit-3-12--wideload simple-result\"><h4><a class=\"name_link boy\" href=\"/babyname/Jaycob\" target=\"_top\">Jaycob</a></h4></li>, <li class=\"name_in_list grid__cell unit-4-12--med unit-3-12--wideload simple-result\"><h4><a class=\"name_link unisex\" href=\"/babyname/Jayden\" target=\"_top\">Jayden</a></h4></li>, <li class=\"name_in_list grid__cell unit-4-12--med unit-3-12--wideload simple-result\"><h4><a class=\"name_link boy\" href=\"/babyname/Jaydon\" target=\"_top\">Jaydon</a></h4></li>, <li class=\"name_in_list grid__cell unit-4-12--med unit-3-12--wideload simple-result\"><h4><a class=\"name_link unisex\" href=\"/babyname/Jaylen\" target=\"_top\">Jaylen</a></h4></li>, <li class=\"name_in_list grid__cell unit-4-12--med unit-3-12--wideload simple-result\"><h4><a class=\"name_link unisex\" href=\"/babyname/Jaylin\" target=\"_top\">Jaylin</a></h4></li>, <li class=\"name_in_list grid__cell unit-4-12--med unit-3-12--wideload simple-result\"><h4><a class=\"name_link boy\" href=\"/babyname/Jayse\" target=\"_top\">Jayse</a></h4></li>, <li class=\"name_in_list grid__cell unit-4-12--med unit-3-12--wideload simple-result\"><h4><a class=\"name_link boy\" href=\"/babyname/Jayson\" target=\"_top\">Jayson</a></h4></li>, <li class=\"name_in_list grid__cell unit-4-12--med unit-3-12--wideload simple-result\"><h4><a class=\"name_link boy\" href=\"/babyname/Jayvion\" target=\"_top\">Jayvion</a></h4></li>, <li class=\"name_in_list grid__cell unit-4-12--med unit-3-12--wideload simple-result\"><h4><a class=\"name_link unisex\" href=\"/babyname/Jaz\" target=\"_top\">Jaz</a></h4></li>, <li class=\"name_in_list grid__cell unit-4-12--med unit-3-12--wideload simple-result\"><h4><a class=\"name_link unisex\" href=\"/babyname/Jaziel\" target=\"_top\">Jaziel</a></h4></li>, <li class=\"name_in_list grid__cell unit-4-12--med unit-3-12--wideload simple-result\"><h4><a class=\"name_link unisex\" href=\"/babyname/Jaziel\" target=\"_top\">Jaziel</a></h4></li>, <li class=\"name_in_list grid__cell unit-4-12--med unit-3-12--wideload simple-result\"><h4><a class=\"name_link boy\" href=\"/babyname/Jazon\" target=\"_top\">Jazon</a></h4></li>, <li class=\"name_in_list grid__cell unit-4-12--med unit-3-12--wideload simple-result\"><h4><a class=\"name_link unisex\" href=\"/babyname/Jazz\" target=\"_top\">Jazz</a></h4></li>, <li class=\"name_in_list grid__cell unit-4-12--med unit-3-12--wideload simple-result\"><h4><a class=\"name_link unisex\" href=\"/babyname/Jean\" target=\"_top\">Jean</a></h4></li>, <li class=\"name_in_list grid__cell unit-4-12--med unit-3-12--wideload simple-result\"><h4><a class=\"name_link boy\" href=\"/babyname/Jeb\" target=\"_top\">Jeb</a></h4></li>, <li class=\"name_in_list grid__cell unit-4-12--med unit-3-12--wideload simple-result\"><h4><a class=\"name_link boy\" href=\"/babyname/Jebediah\" target=\"_top\">Jebediah</a></h4></li>, <li class=\"name_in_list grid__cell unit-4-12--med unit-3-12--wideload simple-result\"><h4><a class=\"name_link boy\" href=\"/babyname/Jed\" target=\"_top\">Jed</a></h4></li>, <li class=\"name_in_list grid__cell unit-4-12--med unit-3-12--wideload simple-result\"><h4><a class=\"name_link boy\" href=\"/babyname/Jedaiah\" target=\"_top\">Jedaiah</a></h4></li>, <li class=\"name_in_list grid__cell unit-4-12--med unit-3-12--wideload simple-result\"><h4><a class=\"name_link boy\" href=\"/babyname/Jedidiah\" target=\"_top\">Jedidiah</a></h4></li>, <li class=\"name_in_list grid__cell unit-4-12--med unit-3-12--wideload simple-result\"><h4><a class=\"name_link boy\" href=\"/babyname/Jeff\" target=\"_top\">Jeff</a></h4></li>, <li class=\"name_in_list grid__cell unit-4-12--med unit-3-12--wideload simple-result\"><h4><a class=\"name_link boy\" href=\"/babyname/Jefferson\" target=\"_top\">Jefferson</a></h4></li>, <li class=\"name_in_list grid__cell unit-4-12--med unit-3-12--wideload simple-result\"><h4><a class=\"name_link boy\" href=\"/babyname/Jeffery\" target=\"_top\">Jeffery</a></h4></li>, <li class=\"name_in_list grid__cell unit-4-12--med unit-3-12--wideload simple-result\"><h4><a class=\"name_link boy\" href=\"/babyname/Jeffrey\" target=\"_top\">Jeffrey</a></h4></li>, <li class=\"name_in_list grid__cell unit-4-12--med unit-3-12--wideload simple-result\"><h4><a class=\"name_link boy\" href=\"/babyname/Jehu\" target=\"_top\">Jehu</a></h4></li>, <li class=\"name_in_list grid__cell unit-4-12--med unit-3-12--wideload simple-result\"><h4><a class=\"name_link unisex\" href=\"/babyname/Jem\" target=\"_top\">Jem</a></h4></li>, <li class=\"name_in_list grid__cell unit-4-12--med unit-3-12--wideload simple-result\"><h4><a class=\"name_link boy\" href=\"/babyname/Jemuel\" target=\"_top\">Jemuel</a></h4></li>, <li class=\"name_in_list grid__cell unit-4-12--med unit-3-12--wideload simple-result\"><h4><a class=\"name_link boy\" href=\"/babyname/Jenkin\" target=\"_top\">Jenkin</a></h4></li>, <li class=\"name_in_list grid__cell unit-4-12--med unit-3-12--wideload simple-result\"><h4><a class=\"name_link boy\" href=\"/babyname/Jens\" target=\"_top\">Jens</a></h4></li>, <li class=\"name_in_list grid__cell unit-4-12--med unit-3-12--wideload simple-result\"><h4><a class=\"name_link unisex\" href=\"/babyname/Jensen\" target=\"_top\">Jensen</a></h4></li>, <li class=\"name_in_list grid__cell unit-4-12--med unit-3-12--wideload simple-result\"><h4><a class=\"name_link boy\" href=\"/babyname/Jenson\" target=\"_top\">Jenson</a></h4></li>, <li class=\"name_in_list grid__cell unit-4-12--med unit-3-12--wideload simple-result\"><h4><a class=\"name_link boy\" href=\"/babyname/Jeppe\" target=\"_top\">Jeppe</a></h4></li>, <li class=\"name_in_list grid__cell unit-4-12--med unit-3-12--wideload simple-result\"><h4><a class=\"name_link boy\" href=\"/babyname/Jeremiah\" target=\"_top\">Jeremiah</a></h4></li>, <li class=\"name_in_list grid__cell unit-4-12--med unit-3-12--wideload simple-result\"><h4><a class=\"name_link boy\" href=\"/babyname/Jeremy\" target=\"_top\">Jeremy</a></h4></li>, <li class=\"name_in_list grid__cell unit-4-12--med unit-3-12--wideload simple-result\"><h4><a class=\"name_link unisex\" href=\"/babyname/Jericho\" target=\"_top\">Jericho</a></h4></li>, <li class=\"name_in_list grid__cell unit-4-12--med unit-3-12--wideload simple-result\"><h4><a class=\"name_link unisex\" href=\"/babyname/Jermaine\" target=\"_top\">Jermaine</a></h4></li>, <li class=\"name_in_list grid__cell unit-4-12--med unit-3-12--wideload simple-result\"><h4><a class=\"name_link boy\" href=\"/babyname/Jermajesty\" target=\"_top\">Jermajesty</a></h4></li>, <li class=\"name_in_list grid__cell unit-4-12--med unit-3-12--wideload simple-result\"><h4><a class=\"name_link boy\" href=\"/babyname/Jerome\" target=\"_top\">Jerome</a></h4></li>, <li class=\"name_in_list grid__cell unit-4-12--med unit-3-12--wideload simple-result\"><h4><a class=\"name_link boy\" href=\"/babyname/Jerrell\" target=\"_top\">Jerrell</a></h4></li>, <li class=\"name_in_list grid__cell unit-4-12--med unit-3-12--wideload simple-result\"><h4><a class=\"name_link boy\" href=\"/babyname/Jerrick\" target=\"_top\">Jerrick</a></h4></li>, <li class=\"name_in_list grid__cell unit-4-12--med unit-3-12--wideload simple-result\"><h4><a class=\"name_link unisex\" href=\"/babyname/Jerry\" target=\"_top\">Jerry</a></h4></li>, <li class=\"name_in_list grid__cell unit-4-12--med unit-3-12--wideload simple-result\"><h4><a class=\"name_link unisex\" href=\"/babyname/Jersey\" target=\"_top\">Jersey</a></h4></li>, <li class=\"name_in_list grid__cell unit-4-12--med unit-3-12--wideload simple-result\"><h4><a class=\"name_link boy\" href=\"/babyname/Jerzy\" target=\"_top\">Jerzy</a></h4></li>, <li class=\"name_in_list grid__cell unit-4-12--med unit-3-12--wideload simple-result\"><h4><a class=\"name_link unisex\" href=\"/babyname/Jess\" target=\"_top\">Jess</a></h4></li>, <li class=\"name_in_list grid__cell unit-4-12--med unit-3-12--wideload simple-result\"><h4><a class=\"name_link unisex\" href=\"/babyname/Jesse\" target=\"_top\">Jesse</a></h4></li>, <li class=\"name_in_list grid__cell unit-4-12--med unit-3-12--wideload simple-result\"><h4><a class=\"name_link unisex\" href=\"/babyname/Jessie\" target=\"_top\">Jessie</a></h4></li>, <li class=\"name_in_list grid__cell unit-4-12--med unit-3-12--wideload simple-result\"><h4><a class=\"name_link boy\" href=\"/babyname/Jestin\" target=\"_top\">Jestin</a></h4></li>, <li class=\"name_in_list grid__cell unit-4-12--med unit-3-12--wideload simple-result\"><h4><a class=\"name_link boy\" href=\"/babyname/Jesus\" target=\"_top\">Jesus</a></h4></li>, <li class=\"name_in_list grid__cell unit-4-12--med unit-3-12--wideload simple-result\"><h4>Jesús</h4></li>, <li class=\"name_in_list grid__cell unit-4-12--med unit-3-12--wideload simple-result\"><h4><a class=\"name_link unisex\" href=\"/babyname/Jet\" target=\"_top\">Jet</a></h4></li>, <li class=\"name_in_list grid__cell unit-4-12--med unit-3-12--wideload simple-result\"><h4><a class=\"name_link boy\" href=\"/babyname/Jeter\" target=\"_top\">Jeter</a></h4></li>, <li class=\"name_in_list grid__cell unit-4-12--med unit-3-12--wideload simple-result\"><h4><a class=\"name_link boy\" href=\"/babyname/Jethro\" target=\"_top\">Jethro</a></h4></li>, <li class=\"name_in_list grid__cell unit-4-12--med unit-3-12--wideload simple-result\"><h4><a class=\"name_link boy\" href=\"/babyname/Jetson\" target=\"_top\">Jetson</a></h4></li>, <li class=\"name_in_list grid__cell unit-4-12--med unit-3-12--wideload simple-result\"><h4><a class=\"name_link boy\" href=\"/babyname/Jett\" target=\"_top\">Jett</a></h4></li>, <li class=\"name_in_list grid__cell unit-4-12--med unit-3-12--wideload simple-result\"><h4><a class=\"name_link boy\" href=\"/babyname/Jevin\" target=\"_top\">Jevin</a></h4></li>, <li class=\"name_in_list grid__cell unit-4-12--med unit-3-12--wideload simple-result\"><h4><a class=\"name_link boy\" href=\"/babyname/Jevon\" target=\"_top\">Jevon</a></h4></li>, <li class=\"name_in_list grid__cell unit-4-12--med unit-3-12--wideload simple-result\"><h4><a class=\"name_link boy\" href=\"/babyname/Jex\" target=\"_top\">Jex</a></h4></li>, <li class=\"name_in_list grid__cell unit-4-12--med unit-3-12--wideload simple-result\"><h4><a class=\"name_link boy\" href=\"/babyname/Jim\" target=\"_top\">Jim</a></h4></li>, <li class=\"name_in_list grid__cell unit-4-12--med unit-3-12--wideload simple-result\"><h4><a class=\"name_link boy\" href=\"/babyname/Jimmy\" target=\"_top\">Jimmy</a></h4></li>, <li class=\"name_in_list grid__cell unit-4-12--med unit-3-12--wideload simple-result\"><h4><a class=\"name_link boy\" href=\"/babyname/Jinjur\" target=\"_top\">Jinjur</a></h4></li>, <li class=\"name_in_list grid__cell unit-4-12--med unit-3-12--wideload simple-result\"><h4><a class=\"name_link boy\" href=\"/babyname/Jiro\" target=\"_top\">Jiro</a></h4></li>, <li class=\"name_in_list grid__cell unit-4-12--med unit-3-12--wideload simple-result\"><h4><a class=\"name_link boy\" href=\"/babyname/Joab\" target=\"_top\">Joab</a></h4></li>, <li class=\"name_in_list grid__cell unit-4-12--med unit-3-12--wideload simple-result\"><h4><a class=\"name_link boy\" href=\"/babyname/Joachim\" target=\"_top\">Joachim</a></h4></li>, <li class=\"name_in_list grid__cell unit-4-12--med unit-3-12--wideload simple-result\"><h4><a class=\"name_link boy\" href=\"/babyname/Joah\" target=\"_top\">Joah</a></h4></li>, <li class=\"name_in_list grid__cell unit-4-12--med unit-3-12--wideload simple-result\"><h4><a class=\"name_link boy\" href=\"/babyname/Joaquin\" target=\"_top\">Joaquin</a></h4></li>, <li class=\"name_in_list grid__cell unit-4-12--med unit-3-12--wideload simple-result\"><h4><a class=\"name_link boy\" href=\"/babyname/Job\" target=\"_top\">Job</a></h4></li>, <li class=\"name_in_list grid__cell unit-4-12--med unit-3-12--wideload simple-result\"><h4><a class=\"name_link boy\" href=\"/babyname/Jock\" target=\"_top\">Jock</a></h4></li>, <li class=\"name_in_list grid__cell unit-4-12--med unit-3-12--wideload simple-result\"><h4><a class=\"name_link unisex\" href=\"/babyname/Jody\" target=\"_top\">Jody</a></h4></li>, <li class=\"name_in_list grid__cell unit-4-12--med unit-3-12--wideload simple-result\"><h4><a class=\"name_link boy\" href=\"/babyname/Joe\" target=\"_top\">Joe</a></h4></li>, <li class=\"name_in_list grid__cell unit-4-12--med unit-3-12--wideload simple-result\"><h4><a class=\"name_link boy\" href=\"/babyname/Joel\" target=\"_top\">Joel</a></h4></li>, <li class=\"name_in_list grid__cell unit-4-12--med unit-3-12--wideload simple-result\"><h4><a class=\"name_link unisex\" href=\"/babyname/Joey\" target=\"_top\">Joey</a></h4></li>, <li class=\"name_in_list grid__cell unit-4-12--med unit-3-12--wideload simple-result\"><h4><a class=\"name_link boy\" href=\"/babyname/Johan\" target=\"_top\">Johan</a></h4></li>, <li class=\"name_in_list grid__cell unit-4-12--med unit-3-12--wideload simple-result\"><h4><a class=\"name_link boy\" href=\"/babyname/Johannes\" target=\"_top\">Johannes</a></h4></li>, <li class=\"name_in_list grid__cell unit-4-12--med unit-3-12--wideload simple-result\"><h4><a class=\"name_link boy\" href=\"/babyname/John\" target=\"_top\">John</a></h4></li>, <li class=\"name_in_list grid__cell unit-4-12--med unit-3-12--wideload simple-result\"><h4><a class=\"name_link boy\" href=\"/babyname/Johnathan\" target=\"_top\">Johnathan</a></h4></li>, <li class=\"name_in_list grid__cell unit-4-12--med unit-3-12--wideload simple-result\"><h4><a class=\"name_link boy\" href=\"/babyname/Johnathon\" target=\"_top\">Johnathon</a></h4></li>, <li class=\"name_in_list grid__cell unit-4-12--med unit-3-12--wideload simple-result\"><h4><a class=\"name_link unisex\" href=\"/babyname/Johnnie\" target=\"_top\">Johnnie</a></h4></li>, <li class=\"name_in_list grid__cell unit-4-12--med unit-3-12--wideload simple-result\"><h4><a class=\"name_link boy\" href=\"/babyname/Johnny\" target=\"_top\">Johnny</a></h4></li>, <li class=\"name_in_list grid__cell unit-4-12--med unit-3-12--wideload simple-result\"><h4><a class=\"name_link boy\" href=\"/babyname/Johnson\" target=\"_top\">Johnson</a></h4></li>, <li class=\"name_in_list grid__cell unit-4-12--med unit-3-12--wideload simple-result\"><h4><a class=\"name_link boy\" href=\"/babyname/Jolyon\" target=\"_top\">Jolyon</a></h4></li>, <li class=\"name_in_list grid__cell unit-4-12--med unit-3-12--wideload simple-result\"><h4><a class=\"name_link boy\" href=\"/babyname/Jon\" target=\"_top\">Jon</a></h4></li>, <li class=\"name_in_list grid__cell unit-4-12--med unit-3-12--wideload simple-result\"><h4><a class=\"name_link boy\" href=\"/babyname/Jonael\" target=\"_top\">Jonael</a></h4></li>, <li class=\"name_in_list grid__cell unit-4-12--med unit-3-12--wideload simple-result\"><h4><a class=\"name_link boy\" href=\"/babyname/Jonah\" target=\"_top\">Jonah</a></h4></li>, <li class=\"name_in_list grid__cell unit-4-12--med unit-3-12--wideload simple-result\"><h4><a class=\"name_link boy\" href=\"/babyname/Jonas\" target=\"_top\">Jonas</a></h4></li>, <li class=\"name_in_list grid__cell unit-4-12--med unit-3-12--wideload simple-result\"><h4><a class=\"name_link boy\" href=\"/babyname/Jonathan\" target=\"_top\">Jonathan</a></h4></li>, <li class=\"name_in_list grid__cell unit-4-12--med unit-3-12--wideload simple-result\"><h4><a class=\"name_link boy\" href=\"/babyname/Jonathon\" target=\"_top\">Jonathon</a></h4></li>, <li class=\"name_in_list grid__cell unit-4-12--med unit-3-12--wideload simple-result\"><h4><a class=\"name_link boy\" href=\"/babyname/Jones\" target=\"_top\">Jones</a></h4></li>, <li class=\"name_in_list grid__cell unit-4-12--med unit-3-12--wideload simple-result\"><h4><a class=\"name_link boy\" href=\"/babyname/Jonesy\" target=\"_top\">Jonesy</a></h4></li>, <li class=\"name_in_list grid__cell unit-4-12--med unit-3-12--wideload simple-result\"><h4><a class=\"name_link boy\" href=\"/babyname/Jonty\" target=\"_top\">Jonty</a></h4></li>, <li class=\"name_in_list grid__cell unit-4-12--med unit-3-12--wideload simple-result\"><h4><a class=\"name_link boy\" href=\"/babyname/Joop\" target=\"_top\">Joop</a></h4></li>, <li class=\"name_in_list grid__cell unit-4-12--med unit-3-12--wideload simple-result\"><h4><a class=\"name_link boy\" href=\"/babyname/Joost\" target=\"_top\">Joost</a></h4></li>, <li class=\"name_in_list grid__cell unit-4-12--med unit-3-12--wideload simple-result\"><h4><a class=\"name_link boy\" href=\"/babyname/Joplin\" target=\"_top\">Joplin</a></h4></li>, <li class=\"name_in_list grid__cell unit-4-12--med unit-3-12--wideload simple-result\"><h4>Jor-<a class=\"name_link girl\" href=\"/babyname/El\" target=\"_top\">El</a></h4></li>, <li class=\"name_in_list grid__cell unit-4-12--med unit-3-12--wideload simple-result\"><h4><a class=\"name_link boy\" href=\"/babyname/Jorah\" target=\"_top\">Jorah</a></h4></li>, <li class=\"name_in_list grid__cell unit-4-12--med unit-3-12--wideload simple-result\"><h4><a class=\"name_link unisex\" href=\"/babyname/Jordan\" target=\"_top\">Jordan</a></h4></li>, <li class=\"name_in_list grid__cell unit-4-12--med unit-3-12--wideload simple-result\"><h4><a class=\"name_link boy\" href=\"/babyname/Jorden\" target=\"_top\">Jorden</a></h4></li>, <li class=\"name_in_list grid__cell unit-4-12--med unit-3-12--wideload simple-result\"><h4><a class=\"name_link boy\" href=\"/babyname/Jordi\" target=\"_top\">Jordi</a></h4></li>, <li class=\"name_in_list grid__cell unit-4-12--med unit-3-12--wideload simple-result\"><h4><a class=\"name_link boy\" href=\"/babyname/Jordy\" target=\"_top\">Jordy</a></h4></li>, <li class=\"name_in_list grid__cell unit-4-12--med unit-3-12--wideload simple-result\"><h4><a class=\"name_link unisex\" href=\"/babyname/Jordyn\" target=\"_top\">Jordyn</a></h4></li>, <li class=\"name_in_list grid__cell unit-4-12--med unit-3-12--wideload simple-result\"><h4><a class=\"name_link boy\" href=\"/babyname/Jorge\" target=\"_top\">Jorge</a></h4></li>, <li class=\"name_in_list grid__cell unit-4-12--med unit-3-12--wideload simple-result\"><h4><a class=\"name_link boy\" href=\"/babyname/Jorgen\" target=\"_top\">Jorgen</a></h4></li>, <li class=\"name_in_list grid__cell unit-4-12--med unit-3-12--wideload simple-result\"><h4><a class=\"name_link boy\" href=\"/babyname/Jorma\" target=\"_top\">Jorma</a></h4></li>, <li class=\"name_in_list grid__cell unit-4-12--med unit-3-12--wideload simple-result\"><h4><a class=\"name_link unisex\" href=\"/babyname/Jory\" target=\"_top\">Jory</a></h4></li>, <li class=\"name_in_list grid__cell unit-4-12--med unit-3-12--wideload simple-result\"><h4><a class=\"name_link boy\" href=\"/babyname/Jose\" target=\"_top\">Jose</a></h4></li>, <li class=\"name_in_list grid__cell unit-4-12--med unit-3-12--wideload simple-result\"><h4><a class=\"name_link boy\" href=\"/babyname/Joseph\" target=\"_top\">Joseph</a></h4></li>, <li class=\"name_in_list grid__cell unit-4-12--med unit-3-12--wideload simple-result\"><h4><a class=\"name_link boy\" href=\"/babyname/Joshua\" target=\"_top\">Joshua</a></h4></li>, <li class=\"name_in_list grid__cell unit-4-12--med unit-3-12--wideload simple-result\"><h4><a class=\"name_link boy\" href=\"/babyname/Josiah\" target=\"_top\">Josiah</a></h4></li>, <li class=\"name_in_list grid__cell unit-4-12--med unit-3-12--wideload simple-result\"><h4><a class=\"name_link unisex\" href=\"/babyname/Joss\" target=\"_top\">Joss</a></h4></li>, <li class=\"name_in_list grid__cell unit-4-12--med unit-3-12--wideload simple-result\"><h4><a class=\"name_link boy\" href=\"/babyname/Josue\" target=\"_top\">Josue</a></h4></li>, <li class=\"name_in_list grid__cell unit-4-12--med unit-3-12--wideload simple-result\"><h4>José</h4></li>, <li class=\"name_in_list grid__cell unit-4-12--med unit-3-12--wideload simple-result\"><h4><a class=\"name_link boy\" href=\"/babyname/Jotham\" target=\"_top\">Jotham</a></h4></li>, <li class=\"name_in_list grid__cell unit-4-12--med unit-3-12--wideload simple-result\"><h4><a class=\"name_link boy\" href=\"/babyname/Jothan\" target=\"_top\">Jothan</a></h4></li>, <li class=\"name_in_list grid__cell unit-4-12--med unit-3-12--wideload simple-result\"><h4><a class=\"name_link unisex\" href=\"/babyname/Journey\" target=\"_top\">Journey</a></h4></li>, <li class=\"name_in_list grid__cell unit-4-12--med unit-3-12--wideload simple-result\"><h4><a class=\"name_link boy\" href=\"/babyname/Jovan\" target=\"_top\">Jovan</a></h4></li>, <li class=\"name_in_list grid__cell unit-4-12--med unit-3-12--wideload simple-result\"><h4><a class=\"name_link boy\" href=\"/babyname/Jovani\" target=\"_top\">Jovani</a></h4></li>, <li class=\"name_in_list grid__cell unit-4-12--med unit-3-12--wideload simple-result\"><h4><a class=\"name_link boy\" href=\"/babyname/Jovanni\" target=\"_top\">Jovanni</a></h4></li>, <li class=\"name_in_list grid__cell unit-4-12--med unit-3-12--wideload simple-result\"><h4><a class=\"name_link boy\" href=\"/babyname/Jovany\" target=\"_top\">Jovany</a></h4></li>, <li class=\"name_in_list grid__cell unit-4-12--med unit-3-12--wideload simple-result\"><h4><a class=\"name_link boy\" href=\"/babyname/Jove\" target=\"_top\">Jove</a></h4></li>, <li class=\"name_in_list grid__cell unit-4-12--med unit-3-12--wideload simple-result\"><h4><a class=\"name_link unisex\" href=\"/babyname/Joyce\" target=\"_top\">Joyce</a></h4></li>, <li class=\"name_in_list grid__cell unit-4-12--med unit-3-12--wideload simple-result\"><h4><a class=\"name_link boy\" href=\"/babyname/Joziah\" target=\"_top\">Joziah</a></h4></li>, <li class=\"name_in_list grid__cell unit-4-12--med unit-3-12--wideload simple-result\"><h4><a class=\"name_link boy\" href=\"/babyname/Juan\" target=\"_top\">Juan</a></h4></li>, <li class=\"name_in_list grid__cell unit-4-12--med unit-3-12--wideload simple-result\"><h4><a class=\"name_link boy\" href=\"/babyname/Jubal\" target=\"_top\">Jubal</a></h4></li>, <li class=\"name_in_list grid__cell unit-4-12--med unit-3-12--wideload simple-result\"><h4><a class=\"name_link boy\" href=\"/babyname/Jud\" target=\"_top\">Jud</a></h4></li>, <li class=\"name_in_list grid__cell unit-4-12--med unit-3-12--wideload simple-result\"><h4><a class=\"name_link boy\" href=\"/babyname/Judah\" target=\"_top\">Judah</a></h4></li>, <li class=\"name_in_list grid__cell unit-4-12--med unit-3-12--wideload simple-result\"><h4><a class=\"name_link boy\" href=\"/babyname/Judas\" target=\"_top\">Judas</a></h4></li>, <li class=\"name_in_list grid__cell unit-4-12--med unit-3-12--wideload simple-result\"><h4><a class=\"name_link boy\" href=\"/babyname/Judd\" target=\"_top\">Judd</a></h4></li>, <li class=\"name_in_list grid__cell unit-4-12--med unit-3-12--wideload simple-result\"><h4><a class=\"name_link unisex\" href=\"/babyname/Jude\" target=\"_top\">Jude</a></h4></li>, <li class=\"name_in_list grid__cell unit-4-12--med unit-3-12--wideload simple-result\"><h4><a class=\"name_link boy\" href=\"/babyname/Judge\" target=\"_top\">Judge</a></h4></li>, <li class=\"name_in_list grid__cell unit-4-12--med unit-3-12--wideload simple-result\"><h4><a class=\"name_link boy\" href=\"/babyname/Judson\" target=\"_top\">Judson</a></h4></li>, <li class=\"name_in_list grid__cell unit-4-12--med unit-3-12--wideload simple-result\"><h4><a class=\"name_link boy\" href=\"/babyname/Juelz\" target=\"_top\">Juelz</a></h4></li>, <li class=\"name_in_list grid__cell unit-4-12--med unit-3-12--wideload simple-result\"><h4><a class=\"name_link unisex\" href=\"/babyname/Jules\" target=\"_top\">Jules</a></h4></li>, <li class=\"name_in_list grid__cell unit-4-12--med unit-3-12--wideload simple-result\"><h4><a class=\"name_link boy\" href=\"/babyname/Julian\" target=\"_top\">Julian</a></h4></li>, <li class=\"name_in_list grid__cell unit-4-12--med unit-3-12--wideload simple-result\"><h4><a class=\"name_link boy\" href=\"/babyname/Julien\" target=\"_top\">Julien</a></h4></li>, <li class=\"name_in_list grid__cell unit-4-12--med unit-3-12--wideload simple-result\"><h4><a class=\"name_link boy\" href=\"/babyname/Julio\" target=\"_top\">Julio</a></h4></li>, <li class=\"name_in_list grid__cell unit-4-12--med unit-3-12--wideload simple-result\"><h4><a class=\"name_link boy\" href=\"/babyname/Julius\" target=\"_top\">Julius</a></h4></li>, <li class=\"name_in_list grid__cell unit-4-12--med unit-3-12--wideload simple-result\"><h4><a class=\"name_link unisex\" href=\"/babyname/July\" target=\"_top\">July</a></h4></li>, <li class=\"name_in_list grid__cell unit-4-12--med unit-3-12--wideload simple-result\"><h4><a class=\"name_link boy\" href=\"/babyname/Jun\" target=\"_top\">Jun</a></h4></li>, <li class=\"name_in_list grid__cell unit-4-12--med unit-3-12--wideload simple-result\"><h4><a class=\"name_link boy\" href=\"/babyname/Junaid\" target=\"_top\">Junaid</a></h4></li>, <li class=\"name_in_list grid__cell unit-4-12--med unit-3-12--wideload simple-result\"><h4><a class=\"name_link unisex\" href=\"/babyname/Juneau\" target=\"_top\">Juneau</a></h4></li>, <li class=\"name_in_list grid__cell unit-4-12--med unit-3-12--wideload simple-result\"><h4><a class=\"name_link boy\" href=\"/babyname/Junior\" target=\"_top\">Junior</a></h4></li>, <li class=\"name_in_list grid__cell unit-4-12--med unit-3-12--wideload simple-result\"><h4><a class=\"name_link unisex\" href=\"/babyname/Juniper\" target=\"_top\">Juniper</a></h4></li>, <li class=\"name_in_list grid__cell unit-4-12--med unit-3-12--wideload simple-result\"><h4><a class=\"name_link boy\" href=\"/babyname/Junius\" target=\"_top\">Junius</a></h4></li>, <li class=\"name_in_list grid__cell unit-4-12--med unit-3-12--wideload simple-result\"><h4><a class=\"name_link unisex\" href=\"/babyname/Junot\" target=\"_top\">Junot</a></h4></li>, <li class=\"name_in_list grid__cell unit-4-12--med unit-3-12--wideload simple-result\"><h4><a class=\"name_link boy\" href=\"/babyname/Jupiter\" target=\"_top\">Jupiter</a></h4></li>, <li class=\"name_in_list grid__cell unit-4-12--med unit-3-12--wideload simple-result\"><h4><a class=\"name_link boy\" href=\"/babyname/Jurre\" target=\"_top\">Jurre</a></h4></li>, <li class=\"name_in_list grid__cell unit-4-12--med unit-3-12--wideload simple-result\"><h4><a class=\"name_link unisex\" href=\"/babyname/Justice\" target=\"_top\">Justice</a></h4></li>, <li class=\"name_in_list grid__cell unit-4-12--med unit-3-12--wideload simple-result\"><h4><a class=\"name_link boy\" href=\"/babyname/Justin\" target=\"_top\">Justin</a></h4></li>, <li class=\"name_in_list grid__cell unit-4-12--med unit-3-12--wideload simple-result\"><h4><a class=\"name_link boy\" href=\"/babyname/Justus\" target=\"_top\">Justus</a></h4></li>, <li class=\"name_in_list grid__cell unit-4-12--med unit-3-12--wideload simple-result\"><h4>János</h4></li>]\n"
     ]
    }
   ],
   "source": [
    "items = soup.findAll(\"li\", class_=\"name_in_list\")\n",
    "print(items)"
   ]
  },
  {
   "cell_type": "code",
   "execution_count": 29,
   "metadata": {
    "collapsed": false
   },
   "outputs": [
    {
     "data": {
      "text/plain": [
       "'Jakez'"
      ]
     },
     "execution_count": 29,
     "metadata": {},
     "output_type": "execute_result"
    }
   ],
   "source": [
    "items[34].a.get_text()"
   ]
  },
  {
   "cell_type": "code",
   "execution_count": 22,
   "metadata": {
    "collapsed": false
   },
   "outputs": [],
   "source": [
    "import string\n",
    "\n",
    "letters = \"qwertyuioplkjhgfdsazxcvbnm\"\n",
    "boy_names = []\n",
    "for n in string.ascii_uppercase[:26]:\n",
    "    url = \"http://nameberry.com/search/boys_names/\" + n\n",
    "    response = urlopen(url)\n",
    "    html = response.read()\n",
    "    response.close()\n",
    "    soup = BeautifulSoup(html,\"html.parser\")\n",
    "    items = soup.findAll(\"li\", class_=\"name_in_list\")\n",
    "    for item in items:\n",
    "        if len(item.findAll(\"a\")) == 1:\n",
    "            boy_names.append(item.a.get_text())"
   ]
  },
  {
   "cell_type": "code",
   "execution_count": 23,
   "metadata": {
    "collapsed": false
   },
   "outputs": [
    {
     "name": "stdout",
     "output_type": "stream",
     "text": [
      "['Aaden', 'Aakil', 'Aalto', 'Aarav', 'Aaron', 'Aart', 'Aaru', 'Aarush', 'Abacus', 'Aban', 'Abanito', 'Abanu', 'Abba', 'Abbas', 'Abbott', 'Abdalla', 'Abdallah', 'Abdiel', 'Abdu', 'Abdul', 'Abdullah', 'Abe', 'Abeeku', 'Abel', 'Abelard', 'Abelardo', 'Aberdeen', 'Abi', 'Abiah', 'Abidan', 'Abiel', 'Abijah', 'Abilene', 'Abimael', 'Abir', 'Abner', 'Abraham', 'Abram', 'Abraxas', 'Absalom', 'Abt', 'Abush', 'Acacius', 'Ace', 'Acer', 'Achille', 'Achilles', 'Acker', 'Actaeon', 'Acton', 'Adagio', 'Adaiah', 'Adair', 'Adalius', 'Adam', 'Adan', 'Addar', 'Addison', 'Adelio', 'Aden', 'Adeon', 'Adhit', 'Adil', 'Adir', 'Aditya', 'Adiv', 'Adlai', 'Adler', 'Adley', 'Adnan', 'Adolf', 'Adolfo', 'Adolph', 'Adolphe', 'Adolphus', 'Adonijah', 'Adonis', 'Adrian', 'Adriano', 'Adriel', 'Adrien', 'Aegis', 'Aeneas', 'Aeron', 'Aesop', 'Agassi', 'Agni', 'Agu', 'Agung', 'Agustin', 'Ahab', 'Ahearne', 'Ahmad', 'Ahman', 'Ahmed', 'Ahmet', 'Aidan', 'Aiden', 'Aidyn', 'Aimilios', 'Ainsley', 'Aio', 'Airlie', 'Aither', 'Aja', 'Ajamu', 'Ajani', 'Ajax', 'Akbar', 'Akello', 'Aki', 'Akim', 'Akira', 'Akiro', 'Akiva', 'Aksel', 'Alabaster', 'Aladdin', 'Alain', 'Alamo', 'Alan', 'Alani', 'Alard', 'Alaric', 'Alarik', 'Alasdair', 'Alastair', 'Alban', 'Albany', 'Albee', 'Alben', 'Albert', 'Alberto', 'Albin', 'Albus', 'Alcott', 'Alden', 'Alder', 'Alder', 'Aldo', 'Aldous', 'Aldrich', 'Alec', 'Aleem', 'Alef', 'Alejandro', 'Alejo', 'Alek', 'Aleph', 'Alessandro', 'Alessio', 'Alex', 'Alexander', 'Alexandre', 'Alexei', 'Alexios', 'Alexis', 'Alexzander', 'Alf', 'Alfie', 'Alfonso', 'Alfred', 'Alfredo', 'Alger', 'Algernon', 'Ali', 'Alijah', 'Alimayu', 'Alipio', 'Alistair', 'Allan', 'Allen', 'Allie', 'Allison', 'Almond', 'Almonzo', 'Alonso', 'Alonzo', 'Aloysius', 'Alphonse', 'Alphonsus', 'Alric', 'Altair', 'Alto', 'Alton', 'Alun', 'Alva', 'Alvar', 'Alvaro', 'Alvin', 'Alwyn', 'Amadeo', 'Amadeus', 'Amadi', 'Amado', 'Amael', 'Amahl', 'Amare', 'Amari', 'Amato', 'Amaury', 'Amazu', 'Ambrose', 'Amedee', 'Amedeo', 'Amedeus', 'Ameer', 'Amen', 'America', 'Amias', 'Amiel', 'Amin', 'Amir', 'Amis', 'Amit', 'Ammiras', 'Amon', 'Amory', 'Amos', 'Amphion', 'Amsterdam', 'Amyas', 'Amzi', 'Anakin', 'Anastasios', 'Anatole', 'Anchor', 'Anders', 'Anderson', 'Andoni', 'Andor', 'Andre', 'Andrea', 'Andreas', 'Andres', 'Andrew', 'Androcles', 'Andy', 'Aneirin', 'Aneurin', 'Angaros', 'Angel', 'Angelico', 'Angelo', 'Angus', 'Anne', 'Anse', 'Ansel', 'Anselm', 'Anselmo', 'Anson', 'Anthony', 'Antoine', 'Anton', 'Antonio', 'Antonius', 'Anwar', 'Anzac', 'Aodh', 'Aoibheann', 'Apollinaire', 'Apollo', 'Apollos', 'Aquilo', 'Ara', 'Araby', 'Aragon', 'Aram', 'Aramis', 'Archer', 'Archibald', 'Archie', 'Archimedes', 'Arden', 'Areli', 'Ares', 'Argento', 'Argi', 'Argider', 'Argo', 'Argus', 'Argyle', 'Ari', 'Arian', 'Aric', 'Arieh', 'Ariel', 'Aries', 'Aristedes', 'Aristotle', 'Arjan', 'Arjun', 'Arkadi', 'Arkady', 'Arledge', 'Arlen', 'Arley', 'Arliss', 'Arlo', 'Armand', 'Armando', 'Armani', 'Armel', 'Armin', 'Armistead', 'Armstrong', 'Arnau', 'Arnault', 'Arnav', 'Arne', 'Arno', 'Arnold', 'Aro', 'Aron', 'Aroon', 'Arpad', 'Arran', 'Arrigo', 'Arrio', 'Arrius', 'Arrow', 'Arroyo', 'Arsenio', 'Art', 'Artemas', 'Artemis', 'Arthur', 'Arturo', 'Aruna', 'Arvid', 'Arvin', 'Aryan', 'Arye', 'Aryeh', 'Asa', 'Asahel', 'Asaiah', 'Asger', 'Ash', 'Ashe', 'Asher', 'Ashlar', 'Ashley', 'Ashton', 'Ashur', 'Asier', 'Asmund', 'Aspen', 'Aston', 'Astraeus', 'Atlas', 'Attala', 'Atticus', 'Attila', 'Atu', 'Auberon', 'Aubin', 'Aubrey', 'Auburn', 'Auden', 'Audie', 'Audio', 'Augie', 'August', 'Augusten', 'Augustin', 'Augustine', 'Augusto', 'Augustus', 'Aureli', 'Aurelio', 'Aurelius', 'Auric', 'Auryn', 'Austell', 'Austen', 'Auster', 'Austin', 'Author', 'Autry', 'Avdel', 'Averil', 'Averill', 'Avery', 'Avi', 'Aviv', 'Ax', 'Axe', 'Axel', 'Axl', 'Axton', 'Ayaan', 'Ayal', 'Ayan', 'Aydan', 'Ayden', 'Aydin', 'Ayu', 'Aza', 'Azaiah', 'Azariah', 'Azarias', 'Aziel', 'Aziz', 'Azizi', 'Azrael', 'Azriel', 'Azzam', 'Azzedine', 'Babson', 'Bacchus', 'Bach', 'Bachelor', 'Badar', 'Baden', 'Bader', 'Baer', 'Baez', 'Baggio', 'Bahram', 'Bailey', 'Bain', 'Bainbridge', 'Bairam', 'Baird', 'Bakar', 'Baker', 'Baku', 'Balbo', 'Baldemar', 'Baldwin', 'Balfour', 'Balin', 'Ballantine', 'Balliol', 'Ballou', 'Balsam', 'Baltazar', 'Balthasar', 'Balthazar', 'Baltimore', 'Balton', 'Balzac', 'Bamboo', 'Banan', 'Bancroft', 'Bandit', 'Bangkok', 'Banjo', 'Banner', 'Banning', 'Banyan', 'Baptiste', 'Barabbas', 'Barack', 'Barak', 'Baram', 'Barbeau', 'Barber', 'Barbossa', 'Barclay', 'Bard', 'Barden', 'Bardo', 'Bardolf', 'Bardrick', 'Barker', 'Barley', 'Barlow', 'Barn', 'Barnabas', 'Barnaby', 'Barnes', 'Barnett', 'Barney', 'Barnum', 'Baron', 'Barr', 'Barrett', 'Barric', 'Barron', 'Barry', 'Bart', 'Bartheleme', 'Barthelemy', 'Bartholomew', 'Bartleby', 'Bartlett', 'Barton', 'Bartram', 'Baruch', 'Bas', 'Basajaun', 'Bashir', 'Basie', 'Basil', 'Baskara', 'Bassett', 'Bastian', 'Bastien', 'Bat', 'Bates', 'Bauer', 'Baxley', 'Baxter', 'Bay', 'Bayard', 'Baylee', 'Bayless', 'Baylor', 'Bayou', 'Bayu', 'Baz', 'Baze', 'Bazel', 'Beacan', 'Beach', 'Beacon', 'Beal', 'Beale', 'Beaman', 'Beamer', 'Bean', 'Bear', 'Beathan', 'Beau', 'Beauchamp', 'Beauregard', 'Becan', 'Bechet', 'Beck', 'Becker', 'Beckett', 'Beckham', 'Bede', 'Beech', 'Behan', 'Beige', 'Bekele', 'Bela', 'Belcher', 'Belden', 'Belisario', 'Bell', 'Bellamy', 'Bello', 'Bellow', 'Belvedere', 'Ben', 'Benaiah', 'Benajah', 'Benedetto', 'Benedict', 'Benen', 'Benevolent', 'Benicio', 'Benigno', 'Benjamin', 'Benji', 'Bennett', 'Benning', 'Benno', 'Benoit', 'Benoni', 'Benson', 'Bentlee', 'Bentley', 'Bently', 'Benton', 'Benvenuto', 'Benvolio', 'Benyamin', 'Beowulf', 'Bered', 'Berenger', 'Beresford', 'Berg', 'Bergen', 'Berger', 'Beriah', 'Berilo', 'Berin', 'Berkeley', 'Berlin', 'Bern', 'Bernard', 'Bernez', 'Berold', 'Berquist', 'Berry', 'Bert', 'Berthold', 'Bertie', 'Bertram', 'Bertrand', 'Berwin', 'Bevan', 'Bevin', 'Bevis', 'Bezai', 'Biaggio', 'Bickford', 'Biff', 'Bige', 'Bikendi', 'Bill', 'Billy', 'Bimini', 'Bing', 'Bingham', 'Bingo', 'Birch', 'Bird', 'Birkett', 'Birley', 'Birney', 'Birtle', 'Bishop', 'Bix', 'Bjergen', 'Bjorn', 'Bjornson', 'Black', 'Blackburn', 'Blade', 'Blaine', 'Blair', 'Blaise', 'Blake', 'Blakeley', 'Blakely', 'Blanco', 'Blane', 'Blanford', 'Blaque', 'Blaze', 'Bleddyn', 'Bligh', 'Bliss', 'Blue', 'Blues', 'Bly', 'Bo', 'Boaz', 'Bob', 'Bobby', 'Bode', 'Boden', 'Bodhi', 'Bodi', 'Bodie', 'Bogart', 'Bogdan', 'Bohan', 'Bohdan', 'Bolan', 'Bolivar', 'Bolivia', 'Bolton', 'Boman', 'Bombay', 'Bonanza', 'Bonaventure', 'Bond', 'Boniface', 'Bono', 'Boo', 'Booker', 'Boomer', 'Boone', 'Booth', 'Borden', 'Boris', 'Borromeo', 'Bosco', 'Bosley', 'Boston', 'Boswell', 'Botan', 'Botham', 'Bourbon', 'Bourne', 'Bouvier', 'Bowen', 'Bowie', 'Boyce', 'Boyd', 'Boyer', 'Boyne', 'Boynton', 'Bozrah', 'Brace', 'Brad', 'Bradan', 'Bradbury', 'Braden', 'Bradford', 'Bradley', 'Bradman', 'Bradshaw', 'Brady', 'Bradyn', 'Braeden', 'Braedon', 'Braham', 'Brahms', 'Braiden', 'Brain', 'Brainard', 'Braison', 'Bram', 'Bramwell', 'Bran', 'Branagan', 'Branch', 'Brand', 'Brandeis', 'Branden', 'Brando', 'Brandon', 'Brandt', 'Branigan', 'Branley', 'Brannon', 'Branson', 'Brant', 'Brantlee', 'Brantley', 'Branton', 'Braque', 'Brason', 'Braun', 'Bravery', 'Bravo', 'Brawley', 'Brax', 'Braxon', 'Braxton', 'Bray', 'Brayan', 'Brayden', 'Braydon', 'Braylen', 'Braylon', 'Brayson', 'Braz', 'Brazier', 'Brazil', 'Breaker', 'Breccan', 'Breck', 'Brecken', 'Breckin', 'Brendan', 'Brenden', 'Brennan', 'Brenner', 'Brent', 'Brentley', 'Brenton', 'Breton', 'Brett', 'Bretton', 'Brevin', 'Brewster', 'Briac', 'Brian', 'Briar', 'Brice', 'Brick', 'Bridge', 'Bridger', 'Briggs', 'Brigham', 'Brighton', 'Briley', 'Brinley', 'Brinsley', 'Brinstan', 'Brio', 'Brishan', 'Bristol', 'Britain', 'Britton', 'Brixton', 'Brixton', 'Brock', 'Brockton', 'Broder', 'Broderick', 'Brodie', 'Brodny', 'Brody', 'Brogan', 'Brom', 'Bromley', 'Bron', 'Bronco', 'Brone', 'Bronislaw', 'Bronson', 'Bronx', 'Brook', 'Brooke', 'Brooklyn', 'Brooks', 'Brosnan', 'Brown', 'Bruce', 'Bruin', 'Bruno', 'Brutus', 'Bryan', 'Bryant', 'Bryce', 'Brycen', 'Bryn', 'Brysen', 'Bryson', 'Bubba', 'Buchanan', 'Buck', 'Buckley', 'Buckminster', 'Bud', 'Buddy', 'Buell', 'Buff', 'Bunyan', 'Burbank', 'Burford', 'Burgess', 'Burgundy', 'Burke', 'Burl', 'Burleigh', 'Burma', 'Burne', 'Burnet', 'Burney', 'Burns', 'Burr', 'Burroughs', 'Burton', 'Busby', 'Busch', 'Buster', 'Butch', 'Butcher', 'Butler', 'Buxton', 'Buzz', 'Byatt', 'Byram', 'Byrd', 'Byron', 'Cab', 'Cabe', 'Cable', 'Cabot', 'Cadao', 'Caddock', 'Cade', 'Cadell', 'Caden', 'Cadman', 'Cadmus', 'Cadoc', 'Cadogan', 'Cador', 'Cael', 'Caelan', 'Caesar', 'Cager', 'Cagney', 'Cahir', 'Caiden', 'Cailean', 'Cain', 'Caio', 'Cairn', 'Cairo', 'Caius', 'Cal', 'Calbert', 'Calder', 'Cale', 'Caleb', 'Caledon', 'Calen', 'Calendar', 'Calhoun', 'Caliban', 'California', 'Calix', 'Calixto', 'Callaghan', 'Callahan', 'Callan', 'Callaway', 'Callen', 'Callister', 'Calloway', 'Callum', 'Calm', 'Calton', 'Calvin', 'Calypso', 'Cam', 'Camden', 'Camdyn', 'Cameron', 'Camilo', 'Campbell', 'Camren', 'Camron', 'Cana', 'Canaan', 'Canarsie', 'Cannon', 'Canton', 'Canute', 'Canyon', 'Caradoc', 'Carbry', 'Carden', 'Carew', 'Carey', 'Carl', 'Carleton', 'Carlin', 'Carlisle', 'Carlo', 'Carlos', 'Carlow', 'Carlsen', 'Carlton', 'Carlyle', 'Carmelo', 'Carmen', 'Carmichael', 'Carmine', 'Carnelian', 'Carney', 'Caro', 'Carroll', 'Carson', 'Carsten', 'Carter', 'Caruso', 'Carver', 'Cary', 'Cas', 'Case', 'Casen', 'Casey', 'Cash', 'Cashel', 'Casimir', 'Cason', 'Caspar', 'Casper', 'Caspian', 'Cass', 'Cassian', 'Cassidy', 'Cassiel', 'Cassio', 'Cassius', 'Castiel', 'Castor', 'Cathal', 'Cathan', 'Cato', 'Catullus', 'Cavan', 'Cavanaugh', 'Cayden', 'Cayman', 'Cayo', 'Cayson', 'Cecil', 'Cedar', 'Cedric', 'Celadon', 'Celestino', 'Celio', 'Cellini', 'Cello', 'Cephas', 'Ceri', 'Cerulean', 'Cesar', 'Ceylon', 'Chace', 'Chad', 'Chadwick', 'Chaim', 'Chalil', 'Chan', 'Chance', 'Chancellor', 'Chandler', 'Chaney', 'Chang', 'Chaniel', 'Channing', 'Chapin', 'Chaplin', 'Charaka', 'Charles', 'Charleston', 'Charley', 'Charlie', 'Charlot', 'Charlton', 'Chase', 'Chasen', 'Chasin', 'Chaucer', 'Chauncey', 'Chauncy', 'Chavez', 'Chaviv', 'Chaz', 'Chazaiah', 'Chazon', 'Cheever', 'Chelsea', 'Chen', 'Cheney', 'Cherokee', 'Chester', 'Chet', 'Chevy', 'Cheyenne', 'Chico', 'Chili', 'Chip', 'Chirico', 'Chosen', 'Chris', 'Christian', 'Christmas', 'Christo', 'Christopher', 'Christos', 'Christy', 'Chuck', 'Churchill', 'Cian', 'Ciar', 'Ciaran', 'Cicero', 'Cielo', 'Cillian', 'Cinna', 'Cipriano', 'Ciro', 'Cisco', 'Claes', 'Claiborne', 'Clancy', 'Clare', 'Clarence', 'Clark', 'Clarry', 'Claude', 'Claudio', 'Claudius', 'Claus', 'Clay', 'Clayton', 'Cleanth', 'Cleary', 'Cleavon', 'Clem', 'Clemens', 'Clement', 'Clemente', 'Cleon', 'Cleopas', 'Cleophas', 'Clete', 'Cletus', 'Cleve', 'Cleveland', 'Cliff', 'Clifford', 'Clifton', 'Clint', 'Clinton', 'Clive', 'Clooney', 'Cloud', 'Clove', 'Clovis', 'Cluny', 'Clyde', 'Coal', 'Cobalt', 'Coby', 'Cody', 'Coen', 'Cohen', 'Colby', 'Cole', 'Coleman', 'Coleridge', 'Colin', 'Coll', 'Collier', 'Collin', 'Collins', 'Colm', 'Colman', 'Colombe', 'Colorado', 'Colt', 'Colten', 'Colter', 'Colton', 'Coltrane', 'Colum', 'Columba', 'Columbo', 'Columbus', 'Comfort', 'Como', 'Conaire', 'Conal', 'Conall', 'Conan', 'Concord', 'Congo', 'Conlan', 'Connelly', 'Conner', 'Connery', 'Connie', 'Connolly', 'Connor', 'Conor', 'Conrad', 'Conran', 'Conroy', 'Constant', 'Constantin', 'Constantine', 'Conway', 'Coolio', 'Cooper', 'Corban', 'Corbett', 'Corbin', 'Corby', 'Corcoran', 'Cord', 'Cordell', 'Cordero', 'Cordovan', 'Corentin', 'Corey', 'Corin', 'Cork', 'Corky', 'Cormac', 'Cornel', 'Cornelius', 'Cornell', 'Coro', 'Corrado', 'Cort', 'Cortez', 'Corwin', 'Cory', 'Cosimo', 'Cosmo', 'Costello', 'Cotton', 'Coty', 'Cougar', 'Count', 'Courtney', 'Cove', 'Covy', 'Coy', 'Coz', 'Craig', 'Crane', 'Cranston', 'Crash', 'Craven', 'Crawford', 'Creighton', 'Crew', 'Crichton', 'Crispin', 'Crispus', 'Cristiano', 'Cristobal', 'Cristopher', 'Crockett', 'Croix', 'Cronan', 'Cronus', 'Crosby', 'Cross', 'Crow', 'Cru', 'Crusoe', 'Cruz', 'Cuarto', 'Cuba', 'Cullen', 'Culley', 'Cullinan', 'Culver', 'Cupid', 'Curran', 'Currier', 'Curry', 'Curt', 'Curtis', 'Cuthbert', 'Cutler', 'Cy', 'Cyan', 'Cymbeline', 'Cypress', 'Cyprian', 'Cyprus', 'Cyrano', 'Cyriacus', 'Cyriaque', 'Cyril', 'Cyrille', 'Cyrus', 'Czar', 'Daan', 'Dabney', 'Dacey', 'Dacian', 'Daedalus', 'Dafydd', 'Dag', 'Dagger', 'Dagobert', 'Dagwood', 'Dahy', 'Dai', 'Daire', 'Daithi', 'Dakota', 'Dale', 'Daley', 'Dalfon', 'Dallas', 'Dallin', 'Dalmazio', 'Dalton', 'Daly', 'Dalziel', 'Damari', 'Damario', 'Damaso', 'Damek', 'Damian', 'Damien', 'Damion', 'Damon', 'Dan', 'Dana', 'Danar', 'Dancer', 'Dane', 'Dangelo', 'Danger', 'Dani', 'Daniel', 'Danilo', 'Danner', 'Danny', 'Dano', 'Dante', 'Danton', 'Danube', 'Danya', 'Daoud', 'Daphnis', 'Daquan', 'Dara', 'Darby', 'Darcy', 'Darian', 'Dariel', 'Darien', 'Darin', 'Dario', 'Darius', 'Darko', 'Darl', 'Darnell', 'Darold', 'Darragh', 'Darrell', 'Darren', 'Darrow', 'Darshan', 'Dart', 'Darton', 'Darwin', 'Dasan', 'Dash', 'Dashiell', 'Dathan', 'Daulton', 'Daumier', 'Dave', 'Davenport', 'Daveth', 'Davian', 'David', 'Davidson', 'Davies', 'Davin', 'Davion', 'Davis', 'Davon', 'Dawson', 'Dax', 'Daxon', 'Daxter', 'Daxton', 'Day', 'Dayton', 'Deacon', 'Dean', 'Deandre', 'Deangelo', 'Deccan', 'Decebal', 'December', 'Decimus', 'Decker', 'Declan', 'Declare', 'Dedrick', 'Deegan', 'Deepak', 'Deforest', 'Dei', 'Deion', 'Del', 'Delaney', 'Delano', 'Delbert', 'Delgado', 'Delias', 'Delmar', 'Delmore', 'Delroy', 'Demarcus', 'Demetrius', 'Democracy', 'Demos', 'Dempsey', 'Denali', 'Denham', 'Denim', 'Deniz', 'Dennis', 'Dennison', 'Denny', 'Denver', 'Denzel', 'Deodar', 'Deon', 'Derby', 'Derek', 'Dermot', 'Derrick', 'Derry', 'Derwin', 'Des', 'Descartes', 'Deshan', 'Deshawn', 'Desi', 'Desiderio', 'Desmond', 'Destin', 'Destry', 'Detroit', 'Deuce', 'Deveraux', 'Devere', 'Devin', 'Devlin', 'Devo', 'Devon', 'Devraj', 'Devrim', 'Dewey', 'Dewi', 'Dewitt', 'Dex', 'Dexter', 'Dez', 'Dezi', 'Dhani', 'Diarmaid', 'Diaz', 'Dice', 'Dick', 'Dickinson', 'Dickson', 'Didier', 'Diego', 'Diesel', 'Dieter', 'Dietrich', 'Digby', 'Diggory', 'Diji', 'Dijon', 'Dilan', 'Dillon', 'Dilwyn', 'Dimitar', 'Dimitri', 'Dinand', 'Dingo', 'Dino', 'Dinsmore', 'Diogenes', 'Dion', 'Dionysius', 'Diplomacy', 'Dirk', 'Discovery', 'Diversity', 'Dix', 'Dixon', 'Django', 'Djimon', 'Dmitri', 'Doane', 'Dobbin', 'Doctor', 'Dodge', 'Dodson', 'Doherty', 'Dolan', 'Dolph', 'Domhnall', 'Domingo', 'Dominic', 'Dominick', 'Dominik', 'Dominique', 'Domino', 'Don', 'Donahue', 'Donald', 'Donar', 'Donatello', 'Donato', 'Dondre', 'Donn', 'Donnacha', 'Donnan', 'Donnelly', 'Donough', 'Donovan', 'Donte', 'Dooley', 'Doolish', 'Doran', 'Dorian', 'Doron', 'Dorset', 'Dorsey', 'Dougal', 'Douglas', 'Dougray', 'Dov', 'Dove', 'Dover', 'Dovev', 'Dow', 'Doyle', 'Draco', 'Drake', 'Draper', 'Draven', 'Dream', 'Drennon', 'Dresden', 'Drew', 'Drexel', 'Driver', 'Drover', 'Drum', 'Drummer', 'Drummond', 'Drury', 'Dryden', 'Drystan', 'Duald', 'Duane', 'Dublin', 'Duccio', 'Dudley', 'Duff', 'Dugan', 'Duke', 'Dumas', 'Dunbar', 'Duncan', 'Dundee', 'Dune', 'Dunham', 'Dunn', 'Dunstan', 'Duran', 'Durango', 'Durant', 'Durham', 'Durie', 'Durnell', 'Durward', 'Durwood', 'Duryea', 'Dushan', 'Dustin', 'Dutch', 'Duvall', 'Dwayne', 'Dweezil', 'Dwight', 'Dylan', 'Dyson', 'Eachann', 'Eagle', 'Eames', 'Eamon', 'Ean', 'Earl', 'Early', 'Earvin', 'Eastman', 'Easton', 'Eaton', 'Eban', 'Eben', 'Ebenezer', 'Eberhard', 'Ebo', 'Echo', 'Ed', 'Edan', 'Eddard', 'Eddie', 'Eddy', 'Edel', 'Eden', 'Eder', 'Edgar', 'Edi', 'Edin', 'Edison', 'Edmond', 'Edmund', 'Edmundo', 'Edric', 'Edsel', 'Eduardo', 'Edur', 'Edward', 'Edwin', 'Eelia', 'Eero', 'Eetu', 'Efrain', 'Efrem', 'Efron', 'Egan', 'Egbert', 'Egon', 'Egypt', 'Eiffel', 'Eilam', 'Eilon', 'Eitan', 'Eja', 'Eladio', 'Elan', 'Elazer', 'Elbert', 'Elden', 'Eldon', 'Eldred', 'Eldridge', 'Eleazar', 'Eleazer', 'Eleven', 'Elgar', 'Eli', 'Elia', 'Eliab', 'Eliakim', 'Eliam', 'Elian', 'Elias', 'Eliaz', 'Eliezer', 'Elif', 'Elihu', 'Elijah', 'Elio', 'Elior', 'Eliot', 'Eliphalet', 'Eliseo', 'Elisha', 'Eliyahu', 'Ellery', 'Ellington', 'Elliot', 'Elliott', 'Ellis', 'Ellison', 'Ellsworth', 'Elm', 'Elmer', 'Elmo', 'Elmore', 'Eloi', 'Elon', 'Elroy', 'Elton', 'Elul', 'Elvin', 'Elvio', 'Elvis', 'Emanuel', 'Embry', 'Emeril', 'Emerson', 'Emery', 'Emil', 'Emilian', 'Emiliano', 'Emilien', 'Emilio', 'Emir', 'Emlyn', 'Emmanuel', 'Emmet', 'Emmett', 'Emo', 'Emory', 'Emre', 'Emrys', 'Emyr', 'Endellion', 'Endicott', 'Endymion', 'Eneko', 'Enfys', 'Engelbert', 'Ennis', 'Eno', 'Enoch', 'Enos', 'Enrico', 'Enrique', 'Enzo', 'Eoghan', 'Eoin', 'Ephai', 'Ephraim', 'Ephram', 'Erasmus', 'Erastus', 'Eric', 'Erick', 'Erickson', 'Ericson', 'Erie', 'Erik', 'Erikson', 'Erlantz', 'Ernest', 'Ernesto', 'Ernst', 'Eros', 'Errol', 'Erskine', 'Ervin', 'Erving', 'Erwin', 'Eryx', 'Esai', 'Esau', 'Esmond', 'Espen', 'Essex', 'Esteban', 'Estes', 'Etan', 'Ethan', 'Ethelbert', 'Etienne', 'Ettore', 'Euan', 'Eugene', 'Eugenio', 'Eustace', 'Euston', 'Evan', 'Evander', 'Evans', 'Evardo', 'Evelyn', 'Ever', 'Everard', 'Everest', 'Everett', 'Everly', 'Evert', 'Evian', 'Ewan', 'Ewing', 'Experience', 'Explorer', 'Eyad', 'Ezekiel', 'Ezio', 'Ezra', 'Faas', 'Fabian', 'Fabiano', 'Fabio', 'Fabius', 'Fable', 'Fabrice', 'Fabrizio', 'Fabron', 'Fachnan', 'Factor', 'Fagin', 'Fahd', 'Fairbairn', 'Fairbanks', 'Fairchild', 'Fairfax', 'Faisal', 'Falcon', 'Falconer', 'Faldo', 'Falkner', 'Fallon', 'Falmouth', 'Fane', 'Faraday', 'Fargo', 'Farley', 'Farmer', 'Faro', 'Faron', 'Farouk', 'Farquahar', 'Farquhar', 'Farrar', 'Farrell', 'Fate', 'Faulkner', 'Faust', 'Fausto', 'Favorite', 'Favre', 'Faxon', 'Fayette', 'Fedde', 'Federico', 'Feeny', 'Feivel', 'Felinus', 'Felipe', 'Felix', 'Fennel', 'Fenno', 'Fenton', 'Ferdinand', 'Ferenc', 'Fergall', 'Fergus', 'Ferguson', 'Fermin', 'Fernando', 'Ferris', 'Festus', 'Fidel', 'Field', 'Fielder', 'Fielding', 'Fiero', 'Fife', 'Fifer', 'Figueroa', 'Filbert', 'Filip', 'Filmore', 'Finbar', 'Finch', 'Finesse', 'Fingal', 'Finian', 'Finlay', 'Finley', 'Finlo', 'Finn', 'Finnegan', 'Finnian', 'Finnick', 'Finnigan', 'Finnley', 'Fintan', 'Fionn', 'Fiorello', 'Fiorenzo', 'Fire', 'Fisher', 'Fisk', 'Fitz', 'Fitzgerald', 'Fitzhugh', 'Fitzroy', 'Fitzwilliam', 'Flame', 'Flanagan', 'Flann', 'Flannery', 'Flash', 'Flavian', 'Flavius', 'Fleet', 'Fleetwood', 'Fleming', 'Fletcher', 'Flint', 'Floi', 'Florent', 'Florian', 'Florin', 'Floyd', 'Flynn', 'Fogarty', 'Foley', 'Folke', 'Fonso', 'Forbes', 'Ford', 'Forest', 'Forever', 'Forrest', 'Forster', 'Fort', 'Fortitude', 'Fortney', 'Fortune', 'Foster', 'Fox', 'Fran', 'Francesco', 'Franchot', 'Francis', 'Francisco', 'Franco', 'Frank', 'Frankie', 'Frankito', 'Franklin', 'Fraser', 'Frazier', 'Fred', 'Freddie', 'Freddy', 'Frederic', 'Frederick', 'Free', 'Freedom', 'Freeman', 'French', 'Frey', 'Friedrich', 'Friend', 'Frisco', 'Friso', 'Fritz', 'Fritzi', 'Frodi', 'Frodo', 'Frost', 'Fuentes', 'Fuji', 'Fulbright', 'Fulton', 'Fursey', 'Future', 'Fynn', 'Fyodor', 'Gabe', 'Gabi', 'Gabin', 'Gable', 'Gabo', 'Gabor', 'Gabriel', 'Gadiel', 'Gael', 'Gaetan', 'Gaetano', 'Gage', 'Gahan', 'Gahiji', 'Gaines', 'Gaius', 'Gal', 'Gale', 'Galen', 'Galil', 'Galileo', 'Gallagher', 'Gallio', 'Galloway', 'Galo', 'Galt', 'Galton', 'Galvin', 'Galway', 'Gamal', 'Gambit', 'Gandolf', 'Gandy', 'Ganesh', 'Ganiz', 'Gannet', 'Gannon', 'Garcia', 'Gardener', 'Gardner', 'Gareth', 'Garfield', 'Garian', 'Garner', 'Garnet', 'Garren', 'Garret', 'Garrett', 'Garrick', 'Garrison', 'Garson', 'Garth', 'Garvan', 'Garvey', 'Gary', 'Gaspar', 'Gaston', 'Gatsby', 'Gauge', 'Gauguin', 'Gauthier', 'Gautier', 'Gavi', 'Gavin', 'Gavriel', 'Gavriil', 'Gavyn', 'Gawain', 'Gay', 'Gaylord', 'Gedaliah', 'Gehrig', 'Gehry', 'Gemini', 'Gene', 'Genesis', 'Genet', 'Gennaro', 'Gentry', 'Geoffrey', 'George', 'Georgi', 'Georgie', 'Geraint', 'Gerald', 'Geraldo', 'Gerard', 'Gerardo', 'Gerhard', 'Gerik', 'Germain', 'Germaine', 'German', 'Geronimo', 'Gerrit', 'Gershom', 'Gershwin', 'Gervaise', 'Giacomo', 'Gian', 'Giancarlo', 'Gianluca', 'Gianni', 'Gibson', 'Gide', 'Gideon', 'Giffard', 'Gifford', 'Gijs', 'Gil', 'Gilbert', 'Gilberto', 'Gilby', 'Gilead', 'Giles', 'Gili', 'Gillespie', 'Gilmore', 'Gino', 'Giorgio', 'Giotto', 'Giovani', 'Giovanni', 'Giovanny', 'Giuliano', 'Giulio', 'Giuseppe', 'Glade', 'Glasgow', 'Glen', 'Glenn', 'Glyn', 'Godfrey', 'Gogol', 'Goku', 'Golden', 'Goliath', 'Gomer', 'Gonzalo', 'Gordon', 'Gore', 'Goren', 'Gorky', 'Gough', 'Gower', 'Grady', 'Graeme', 'Graham', 'Gram', 'Gramercy', 'Granger', 'Granite', 'Grant', 'Gray', 'Graydon', 'Graysen', 'Grayson', 'Graziano', 'Greco', 'Greeley', 'Green', 'Gregor', 'Gregorio', 'Gregory', 'Grey', 'Greyson', 'Griffey', 'Griffin', 'Griffith', 'Grove', 'Grover', 'Gruff', 'Guglielmo', 'Guido', 'Guillaume', 'Guillem', 'Guillermo', 'Guitar', 'Gull', 'Gulliver', 'Gunnar', 'Gunner', 'Gunther', 'Guri', 'Guryon', 'Gus', 'Gustav', 'Gustavo', 'Guthrie', 'Guy', 'Gwilym', 'Gwylym', 'Gwyn', 'Gyan', 'Gyuri', 'Haakon', 'Habakkuk', 'Habib', 'Hackett', 'Haco', 'Hadar', 'Hadden', 'Hadley', 'Hadrian', 'Hadriel', 'Hadrien', 'Hagan', 'Hagrid', 'Haiden', 'Haig', 'Haim', 'Haines', 'Haji', 'Hakan', 'Hakeem', 'Hal', 'Halcyon', 'Haldan', 'Haldor', 'Hale', 'Haley', 'Hali', 'Halian', 'Halifax', 'Hall', 'Hallam', 'Halle', 'Halley', 'Halloran', 'Halo', 'Halsey', 'Halston', 'Ham', 'Hamal', 'Hamill', 'Hamilton', 'Hamish', 'Hamlet', 'Hamlin', 'Hammett', 'Hammond', 'Hampton', 'Hamza', 'Hamzah', 'Hanan', 'Hancock', 'Hanif', 'Hanish', 'Hank', 'Hannibal', 'Hanno', 'Hanoch', 'Hans', 'Hansel', 'Hanson', 'Harbin', 'Harbor', 'Harden', 'Harding', 'Hardy', 'Hari', 'Harlan', 'Harlem', 'Harley', 'Harmon', 'Harmony', 'Harold', 'Haroun', 'Harp', 'Harper', 'Harpo', 'Harrell', 'Harrington', 'Harris', 'Harrison', 'Harry', 'Hart', 'Harte', 'Hartigan', 'Hartley', 'Hartman', 'Hartwig', 'Haruki', 'Harvard', 'Harvest', 'Harvey', 'Haskel', 'Hassan', 'Havana', 'Havard', 'Havelock', 'Haven', 'Hawaii', 'Hawes', 'Hawk', 'Hawthorn', 'Hawthorne', 'Hayden', 'Haydn', 'Hayes', 'Hayward', 'Hazael', 'Hazaiah', 'Hazard', 'Haze', 'Hazelton', 'Heath', 'Heathcliff', 'Heber', 'Hector', 'Heddwyn', 'Hedeon', 'Heinrich', 'Heinz', 'Heladio', 'Helgi', 'Helier', 'Helio', 'Heliodor', 'Heller', 'Helmut', 'Helsinki', 'Hemingway', 'Henderson', 'Hendrik', 'Hendrix', 'Henley', 'Henrik', 'Henry', 'Henson', 'Henty', 'Herbert', 'Hercules', 'Herman', 'Hermes', 'Hernando', 'Hero', 'Heron', 'Herrick', 'Hershel', 'Hesperos', 'Heulfryn', 'Hewett', 'Hezekiah', 'Hiawatha', 'Hidalgo', 'Hideki', 'Hieronymous', 'Hieronymus', 'Hikaru', 'Hilaire', 'Hilary', 'Hill', 'Hillel', 'Hilton', 'Hippolyte', 'Hiram', 'Hiro', 'Hiroshi', 'Hiroto', 'History', 'Hitch', 'Hjalmar', 'Hob', 'Hobart', 'Hobbes', 'Hobson', 'Hodgson', 'Hogan', 'Hoke', 'Hoku', 'Holden', 'Holland', 'Hollis', 'Holmes', 'Holt', 'Homer', 'Hooker', 'Hooper', 'Hoover', 'Hopper', 'Horace', 'Horatio', 'Horizon', 'Horst', 'Horton', 'Horus', 'Hosea', 'Houghton', 'Houston', 'Howard', 'Howe', 'Howel', 'Howell', 'Hoyt', 'Hubbell', 'Hubert', 'Huck', 'Huckleberry', 'Hudson', 'Huffington', 'Hugh', 'Hugin', 'Hugo', 'Humbert', 'Hume', 'Humphrey', 'Hunt', 'Hunter', 'Huntington', 'Huntley', 'Huon', 'Huracan', 'Hurley', 'Hurst', 'Hussein', 'Hutchings', 'Huxley', 'Huy', 'Hyatt', 'Hyde', 'Hyman', 'Iago', 'Iain', 'Iakona', 'Ian', 'Ianto', 'Ianu', 'Ib', 'Ibo', 'Ibrahim', 'Ibsen', 'Icarus', 'Ichabod', 'Ichiro', 'Ickitt', 'Idan', 'Idi', 'Ido', 'Idris', 'Idrissa', 'Ieuan', 'Ifor', 'Igashu', 'Iggy', 'Ignacio', 'Ignatius', 'Ignatz', 'Igor', 'Ike', 'Iker', 'Iku', 'Ilan', 'Ilara', 'Ilari', 'Ilario', 'Ilie', 'Ilya', 'Imari', 'Immanuel', 'Imre', 'Increase', 'Indiana', 'Indigo', 'Indio', 'Indus', 'Ingmar', 'Ingo', 'Ingram', 'Inigo', 'Iniko', 'Innes', 'Innocent', 'Ioan', 'Iolo', 'Ion', 'Ira', 'Irvin', 'Irving', 'Irwin', 'Isaac', 'Isaak', 'Isai', 'Isaiah', 'Isaias', 'Isandro', 'Ishaan', 'Isham', 'Ishaq', 'Ishmael', 'Isi', 'Isiah', 'Isidore', 'Islwyn', 'Ismael', 'Israel', 'Issac', 'Issey', 'Italo', 'Itzal', 'Ivan', 'Ivanhoe', 'Ivar', 'Ives', 'Ivo', 'Ivor', 'Ivory', 'Izaiah', 'Izak', 'Izar', 'Izayah', 'Izidor', 'Izzy', 'Jaap', 'Jabari', 'Jabbar', 'Jabez', 'Jabin', 'Jabiru', 'Jac', 'Jacca', 'Jace', 'Jachin', 'Jacinto', 'Jack', 'Jackson', 'Jaco', 'Jacob', 'Jacobo', 'Jacoby', 'Jacques', 'Jaden', 'Jadiel', 'Jadon', 'Jael', 'Jagger', 'Jago', 'Jaguar', 'Jahan', 'Jaheim', 'Jaiden', 'Jaime', 'Jair', 'Jairo', 'Jairus', 'Jaka', 'Jake', 'Jakez', 'Jakob', 'Jakobe', 'Jalen', 'Jalmari', 'Jamal', 'Jamar', 'Jamari', 'Jamarion', 'James', 'Jameson', 'Jamie', 'Jamieson', 'Jamil', 'Jamir', 'Jamison', 'Jan', 'Janek', 'Janne', 'Jannick', 'Jannik', 'Janos', 'Janson', 'Jantzen', 'January', 'Janus', 'Japheth', 'Japhy', 'Jarah', 'Jareb', 'Jared', 'Jarek', 'Jareth', 'Jari', 'Jarl', 'Jarlath', 'Jarman', 'Jaron', 'Jarrah', 'Jarrell', 'Jarrett', 'Jarvis', 'Jase', 'Jasiah', 'Jasiel', 'Jason', 'Jasper', 'Jati', 'Javan', 'Javelin', 'Javier', 'Javin', 'Javion', 'Javon', 'Javor', 'Jax', 'Jaxen', 'Jaxon', 'Jaxson', 'Jaxton', 'Jay', 'Jayce', 'Jayceon', 'Jaycob', 'Jayden', 'Jaydon', 'Jaylen', 'Jaylin', 'Jayse', 'Jayson', 'Jayvion', 'Jaz', 'Jaziel', 'Jaziel', 'Jazon', 'Jazz', 'Jean', 'Jeb', 'Jebediah', 'Jed', 'Jedaiah', 'Jedidiah', 'Jeff', 'Jefferson', 'Jeffery', 'Jeffrey', 'Jehu', 'Jem', 'Jemuel', 'Jenkin', 'Jens', 'Jensen', 'Jenson', 'Jeppe', 'Jeremiah', 'Jeremy', 'Jericho', 'Jermaine', 'Jermajesty', 'Jerome', 'Jerrell', 'Jerrick', 'Jerry', 'Jersey', 'Jerzy', 'Jess', 'Jesse', 'Jessie', 'Jestin', 'Jesus', 'Jet', 'Jeter', 'Jethro', 'Jetson', 'Jett', 'Jevin', 'Jevon', 'Jex', 'Jim', 'Jimmy', 'Jinjur', 'Jiro', 'Joab', 'Joachim', 'Joah', 'Joaquin', 'Job', 'Jock', 'Jody', 'Joe', 'Joel', 'Joey', 'Johan', 'Johannes', 'John', 'Johnathan', 'Johnathon', 'Johnnie', 'Johnny', 'Johnson', 'Jolyon', 'Jon', 'Jonael', 'Jonah', 'Jonas', 'Jonathan', 'Jonathon', 'Jones', 'Jonesy', 'Jonty', 'Joop', 'Joost', 'Joplin', 'El', 'Jorah', 'Jordan', 'Jorden', 'Jordi', 'Jordy', 'Jordyn', 'Jorge', 'Jorgen', 'Jorma', 'Jory', 'Jose', 'Joseph', 'Joshua', 'Josiah', 'Joss', 'Josue', 'Jotham', 'Jothan', 'Journey', 'Jovan', 'Jovani', 'Jovanni', 'Jovany', 'Jove', 'Joyce', 'Joziah', 'Juan', 'Jubal', 'Jud', 'Judah', 'Judas', 'Judd', 'Jude', 'Judge', 'Judson', 'Juelz', 'Jules', 'Julian', 'Julien', 'Julio', 'Julius', 'July', 'Jun', 'Junaid', 'Juneau', 'Junior', 'Juniper', 'Junius', 'Junot', 'Jupiter', 'Jurre', 'Justice', 'Justin', 'Justus', 'Kaddish', 'Kade', 'Kadeem', 'Kaden', 'Kadir', 'Kaede', 'Kaeden', 'Kaelan', 'Kafka', 'Kahlil', 'Kai', 'Kaiden', 'Kaiis', 'Kaiser', 'Kaison', 'Kaius', 'Kaj', 'Kalani', 'Kale', 'Kaleb', 'Kalel', 'Kalen', 'Kamal', 'Kamari', 'Kamden', 'Kamdyn', 'Kameron', 'Kamil', 'Kamren', 'Kamron', 'Kamryn', 'Kanan', 'Kane', 'Kaniel', 'Kannon', 'Kano', 'Kanye', 'Kareem', 'Karel', 'Kari', 'Karl', 'Karmi', 'Karson', 'Karsten', 'Karter', 'Kase', 'Kasen', 'Kasey', 'Kash', 'Kashton', 'Kason', 'Kasper', 'Kassian', 'Kato', 'Kavan', 'Kavanagh', 'Kavanaugh', 'Kayden', 'Kaysen', 'Kayson', 'Kazuki', 'Kazumi', 'Kazuo', 'Kea', 'Keagan', 'Keahi', 'Keane', 'Keanu', 'Keaton', 'Keats', 'Keefe', 'Keegan', 'Keelan', 'Keeley', 'Keen', 'Keenan', 'Keenen', 'Kees', 'Kehinde', 'Keir', 'Keiran', 'Keith', 'Kelby', 'Kellam', 'Kellan', 'Kellen', 'Keller', 'Kelly', 'Kelsey', 'Kelso', 'Kelton', 'Kelvin', 'Kemuel', 'Ken', 'Kendal', 'Kendall', 'Kendrick', 'Kendry', 'Kenelm', 'Kenji', 'Kenn', 'Kennedy', 'Kennelly', 'Kenneth', 'Kennon', 'Kenny', 'Kensington', 'Kent', 'Kenton', 'Kenya', 'Kenyatta', 'Kenyon', 'Kenzie', 'Kenzo', 'Keon', 'Kermit', 'Kerouac', 'Kerr', 'Kerry', 'Kesey', 'Kester', 'Keverne', 'Kevin', 'Keyne', 'Keyon', 'Keyshawn', 'Khalid', 'Khalil', 'Kiah', 'Kian', 'Kick', 'Kiefer', 'Kiel', 'Kier', 'Kieran', 'Kiernan', 'Kija', 'Killian', 'Kim', 'Kimball', 'Kimberly', 'King', 'Kingsley', 'Kingston', 'Kipling', 'Kipp', 'Kiran', 'Kirby', 'Kirk', 'Kiro', 'Kit', 'Kito', 'Kitt', 'Kitto', 'Klaus', 'Klee', 'Klemens', 'Knight', 'Knox', 'Knut', 'Knute', 'Koa', 'Kobe', 'Koby', 'Koda', 'Kody', 'Koen', 'Kofi', 'Kohei', 'Kohen', 'Kojo', 'Kolby', 'Kole', 'Kolten', 'Kolton', 'Kolya', 'Konner', 'Konnor', 'Konrad', 'Kool', 'Kora', 'Korben', 'Korbin', 'Koren', 'Korey', 'Kort', 'Kostya', 'Krish', 'Krishna', 'Kristian', 'Kristof', 'Kristoffer', 'Kristopher', 'Kumar', 'Kurt', 'Kwabena', 'Kwadwo', 'Kwaku', 'Kwame', 'Kwan', 'Kwasi', 'Kyan', 'Kyd', 'Kye', 'Kylan', 'Kyle', 'Kylen', 'Kyler', 'Kylo', 'Kymani', 'Kynaston', 'Kyoto', 'Kyree', 'Kyrie', 'Kyson', 'Laban', 'Lachlan', 'Lacrosse', 'Ladd', 'Lael', 'Lafayette', 'Lafcadio', 'Laird', 'Lake', 'Lakota', 'Lamar', 'Lambert', 'Lamont', 'Lancaster', 'Lance', 'Lancelot', 'Land', 'Landen', 'Lander', 'Lando', 'Landon', 'Landry', 'Landyn', 'Lane', 'Laney', 'Lanford', 'Langdon', 'Langley', 'Langston', 'Lanier', 'Lapu', 'Laramie', 'Lardner', 'Laredo', 'Larimar', 'Lark', 'Larkin', 'Larry', 'Lars', 'Lashawn', 'Laszlo', 'Latham', 'Lathan', 'Latif', 'Lauge', 'Laughlin', 'Laurence', 'Laurent', 'Laurits', 'Lauro', 'Laver', 'Lawrence', 'Lawson', 'Lawyer', 'Layne', 'Layton', 'Lazaro', 'Lazarus', 'Lazer', 'Lazuli', 'Leaf', 'Leander', 'Leandre', 'Leandro', 'Leary', 'Lebron', 'Lech', 'Ledger', 'Lee', 'Legend', 'Leib', 'Leif', 'Leighton', 'Leith', 'Leland', 'Lelio', 'Lem', 'Lemuel', 'Lennan', 'Lennon', 'Lennox', 'Lenny', 'Leno', 'Leo', 'Leon', 'Leonard', 'Leonardo', 'Leone', 'Leonel', 'Leonid', 'Leonida', 'Leonidas', 'Leontel', 'Leontios', 'Leopold', 'Leroy', 'Leslie', 'Lester', 'Lev', 'Levi', 'Leviathan', 'Levin', 'Leviticus', 'Levon', 'Lewis', 'Lex', 'Lexus', 'Liam', 'Liberato', 'Liev', 'Light', 'Lincoln', 'Linden', 'Lindsay', 'Link', 'Lintang', 'Linton', 'Linus', 'Lionel', 'Lior', 'Lir', 'Lisa', 'Lito', 'Little', 'Litton', 'Livingston', 'Lizar', 'Llew', 'Llewellyn', 'Lleyton', 'Lloyd', 'Llyr', 'Llywelyn', 'Loch', 'Lochlainn', 'Lochlan', 'Locke', 'Lodge', 'Loeb', 'Loew', 'Loewy', 'Logan', 'Loic', 'Loki', 'Loman', 'Lon', 'Lonan', 'London', 'Londyn', 'Long', 'Longfellow', 'Lonzo', 'Lorcan', 'Lord', 'Loren', 'Lorenzo', 'Lorne', 'Lothar', 'Lou', 'Loudon', 'Louie', 'Louis', 'Lowe', 'Lowell', 'Loyal', 'Luc', 'Luca', 'Lucan', 'Lucas', 'Lucca', 'Lucian', 'Luciano', 'Lucien', 'Lucifer', 'Lucius', 'Lucky', 'Lucretius', 'Ludlow', 'Ludo', 'Ludovic', 'Ludwig', 'Luigi', 'Luis', 'Luka', 'Lukas', 'Luke', 'Lundy', 'Luther', 'Lyle', 'Lyman', 'Lynch', 'Lyndon', 'Lynn', 'Lynx', 'Lyon', 'Lyric', 'Lysander', 'Mac', 'Macallister', 'Macario', 'Macarius', 'Macarthur', 'Macaulay', 'Macdonald', 'Mace', 'Maceo', 'Macgregor', 'Machi', 'Mack', 'Mackenzie', 'Mackson', 'Maclean', 'Macon', 'Macsen', 'Madden', 'Maddox', 'Madigan', 'Madison', 'Madoc', 'Mads', 'Mael', 'Maes', 'Magee', 'Maggio', 'Magic', 'Magnus', 'Maguire', 'Mahlon', 'Mahmoud', 'Mahomet', 'Mailer', 'Maillol', 'Maine', 'Maison', 'Majesty', 'Majid', 'Major', 'Makai', 'Makari', 'Makeo', 'Makhi', 'Malachi', 'Malachite', 'Malachy', 'Malakai', 'Malaki', 'Malcolm', 'Malik', 'Malin', 'Maliq', 'Malloy', 'Malo', 'Malone', 'Maloney', 'Malthe', 'Malus', 'Mandela', 'Mandla', 'Mando', 'Mandy', 'Manfred', 'Manju', 'Manley', 'Manning', 'Mannix', 'Manny', 'Mano', 'Manolo', 'Mansur', 'Manu', 'Manuel', 'Manuka', 'Manus', 'Manzie', 'Manzo', 'Manzu', 'Maoz', 'Marc', 'Marceau', 'Marcel', 'Marcello', 'Marcellus', 'Marcelo', 'March', 'Marco', 'Marcos', 'Marcus', 'Marian', 'Marino', 'Mario', 'Marion', 'Marius', 'Mark', 'Markus', 'Marley', 'Marlon', 'Marlow', 'Marlowe', 'Marmaduke', 'Maro', 'Marquez', 'Marquis', 'Marquise', 'Mars', 'Marsden', 'Marsh', 'Marshall', 'Marston', 'Martez', 'Martin', 'Marty', 'Marvin', 'Maso', 'Mason', 'Massai', 'Massey', 'Massimo', 'Mat', 'Mateo', 'Mathew', 'Mathias', 'Mathis', 'Matias', 'Matisse', 'Matt', 'Matteo', 'Matthew', 'Matthias', 'Mattias', 'Mattie', 'Maurice', 'Mauricio', 'Maury', 'Maverick', 'Max', 'Maxen', 'Maxence', 'Maxfield', 'Maxim', 'Maxime', 'Maximilian', 'Maximiliano', 'Maximo', 'Maximus', 'Maxon', 'Maxton', 'Maxwell', 'Mayer', 'Maynard', 'Mayo', 'Mayson', 'Mcarthur', 'Mccabe', 'Mccanna', 'Mccoy', 'Mcdermott', 'Mcenroe', 'Mcewan', 'Mckinley', 'Mead', 'Mees', 'Mehdi', 'Meir', 'Mekhi', 'Mel', 'Melchior', 'Melker', 'Melky', 'Melor', 'Melville', 'Melvin', 'Memphis', 'Menachem', 'Menashe', 'Mendel', 'Menzies', 'Merc', 'Merce', 'Mercer', 'Mercury', 'Meredith', 'Merijn', 'Merle', 'Merlin', 'Merrick', 'Merritt', 'Merton', 'Mervin', 'Mervyn', 'Meshach', 'Messiah', 'Meteor', 'Meyer', 'Mica', 'Micah', 'Micaiah', 'Micajah', 'Micha', 'Michael', 'Michaiah', 'Michal', 'Micheal', 'Michel', 'Michelangelo', 'Michele', 'Mick', 'Mickey', 'Midian', 'Midnight', 'Mies', 'Miguel', 'Mika', 'Mike', 'Mikel', 'Mikhail', 'Mikkel', 'Mikko', 'Milan', 'Milas', 'Miles', 'Millard', 'Miller', 'Milo', 'Milos', 'Milton', 'Ming', 'Mingo', 'Mingus', 'Minik', 'Miran', 'Mircea', 'Mirin', 'Mirko', 'Miro', 'Mirren', 'Mirri', 'Misael', 'Mischa', 'Misha', 'Mitchell', 'Mitt', 'Moby', 'Moe', 'Mohamed', 'Mohammad', 'Mohammed', 'Moises', 'Moishe', 'Mojave', 'Molloy', 'Mongo', 'Monico', 'Monroe', 'Montague', 'Montana', 'Monte', 'Montego', 'Montel', 'Montez', 'Montgomery', 'Monty', 'Moore', 'Morandi', 'Mordecai', 'Morgan', 'Mori', 'Moritz', 'Morley', 'Moroccan', 'Morocco', 'Morpheus', 'Morrie', 'Morris', 'Morrisey', 'Morrison', 'Morrissey', 'Mortimer', 'Morton', 'Moses', 'Moshe', 'Moss', 'Mowgli', 'Mozart', 'Muhammad', 'Muir', 'Mulligan', 'Mungo', 'Munro', 'Murphy', 'Murray', 'Musa', 'Mustafa', 'Mykelti', 'Myles', 'Myron', 'Naaman', 'Nabil', 'Nacho', 'Nachum', 'Nacio', 'Nadim', 'Nadir', 'Naeem', 'Nagel', 'Nahir', 'Nahma', 'Naim', 'Nairn', 'Nairobi', 'Naji', 'Najib', 'Nakia', 'Nakos', 'Nakotah', 'Naldo', 'Nalin', 'Namaka', 'Namid', 'Namir', 'Nando', 'Nansen', 'Naor', 'Naphtali', 'Napier', 'Napoleon', 'Naquan', 'Narain', 'Narcissus', 'Nardo', 'Naren', 'Narve', 'Nash', 'Nashua', 'Nasim', 'Nasir', 'Nasmith', 'Nasser', 'Nat', 'Natal', 'Nate', 'Nathan', 'Nathanael', 'Nathaniel', 'Naum', 'Navarone', 'Navarro', 'Naveed', 'Naveen', 'Navigator', 'Navin', 'Naviyd', 'Navy', 'Nayland', 'Naylor', 'Nazaire', 'Nazareth', 'Nazih', 'Neal', 'Neander', 'Nebo', 'Nectarios', 'Ned', 'Neel', 'Negasi', 'Nehemiah', 'Nehru', 'Neil', 'Nelius', 'Nelly', 'Nelo', 'Nels', 'Nelson', 'Nemesio', 'Nemo', 'Nen', 'Neo', 'Neon', 'Neptune', 'Nereus', 'Neriah', 'Nero', 'Neruda', 'Nesbit', 'Nesta', 'Nestor', 'Nevada', 'Neville', 'Nevin', 'New', 'Newbold', 'Newbury', 'Newell', 'Newland', 'Newlin', 'Newman', 'Newport', 'Newt', 'Newton', 'Neymar', 'Nguyen', 'Niall', 'Nicabar', 'Nicandro', 'Nicasio', 'Nicholas', 'Nicholson', 'Nick', 'Nickleby', 'Nickolai', 'Nickolas', 'Nicky', 'Nico', 'Nicodemus', 'Nicol', 'Nicolai', 'Nicolas', 'Nicolo', 'Nicomedes', 'Niels', 'Nigel', 'Night', 'Nikau', 'Nike', 'Nikita', 'Nikko', 'Niko', 'Nikola', 'Nikolai', 'Nikolas', 'Nikos', 'Nikostratos', 'Nila', 'Nile', 'Niles', 'Nilo', 'Nils', 'Nilsson', 'Nima', 'Nimrod', 'Nin', 'Ninian', 'Nino', 'Nir', 'Niran', 'Nishan', 'Nissan', 'Niven', 'Nixon', 'Njord', 'Noah', 'Noam', 'Noaz', 'Noble', 'Noe', 'Noel', 'Nohea', 'Nohr', 'Nolan', 'Nollie', 'Noon', 'Norbert', 'Norfolk', 'Nori', 'Norman', 'Norris', 'North', 'Northcliff', 'Northrop', 'Norton', 'Norville', 'Norvin', 'Norwood', 'Nouvel', 'Nova', 'Novak', 'November', 'Noyce', 'Numair', 'Nuncio', 'Nuri', 'Nuriel', 'Nuru', 'Nye', 'Brian', 'Brien', 'Callahan', 'Casey', 'Connor', 'Donnell', 'Donovan', 'Fallon', 'Grady', 'Hara', 'Keefe', 'Neal', 'Reilly', 'Shea', 'Sullivan', 'Oak', 'Oakes', 'Oakley', 'Oan', 'Obadiah', 'Obadias', 'Obama', 'Oberon', 'Obi', 'Obrien', 'Ocean', 'Oceanus', 'Octave', 'Octavian', 'Octavio', 'Octavius', 'Ode', 'Odell', 'Odhran', 'Odilio', 'Odin', 'Odion', 'Odissan', 'Odysseus', 'Oedipus', 'Ogden', 'Ogun', 'Ohan', 'Ohara', 'Oisin', 'Ojai', 'Okello', 'Olaf', 'Oleg', 'Olimpio', 'Olin', 'Oliver', 'Olivian', 'Olivier', 'Ollie', 'Olsen', 'Oluwatobiloba', 'Olympos', 'Omar', 'Omari', 'Omarion', 'Omega', 'Omer', 'Omri', 'Onesimus', 'Onni', 'Onslow', 'Ontario', 'Onyx', 'Oran', 'Orel', 'Oren', 'Orestes', 'Orev', 'Orfeo', 'Ori', 'Orin', 'Oriol', 'Orion', 'Orlando', 'Ornette', 'Orno', 'Oro', 'Orpheus', 'Orsino', 'Orson', 'Ortega', 'Orville', 'Orwell', 'Osbert', 'Osborn', 'Oscar', 'Osgood', 'Osheen', 'Osian', 'Osias', 'Osiris', 'Oskar', 'Oslo', 'Osman', 'Osmond', 'Osric', 'Ossian', 'Ossin', 'Ostadar', 'Osvaldo', 'Oswald', 'Oswin', 'Othello', 'Othniel', 'Otis', 'Ottavio', 'Otto', 'Owen', 'Oxford', 'Oz', 'Ozias', 'Ozni', 'Ozuru', 'Ozzie', 'Ozzy', 'Paavo', 'Pablo', 'Pace', 'Paciano', 'Pacific', 'Packard', 'Paco', 'Pacome', 'Paddy', 'Paden', 'Padget', 'Padraig', 'Padrig', 'Pagan', 'Page', 'Pagiel', 'Paine', 'Painter', 'Paisley', 'Palace', 'Paladin', 'Paladio', 'Palani', 'Palash', 'Palben', 'Palermo', 'Paley', 'Palin', 'Palmer', 'Palomo', 'Palti', 'Pan', 'Panas', 'Pancho', 'Panos', 'Panya', 'Paolo', 'Paquito', 'Paramesh', 'Parc', 'Paris', 'Parish', 'Park', 'Parker', 'Parkin', 'Parnell', 'Parr', 'Parren', 'Parry', 'Parson', 'Parthenios', 'Parton', 'Parvaiz', 'Pascal', 'Pascoe', 'Pasha', 'Pashenka', 'Pasqual', 'Pastor', 'Pat', 'Paterson', 'Patrice', 'Patricio', 'Patrick', 'Patrin', 'Patsy', 'Patterson', 'Patton', 'Patxi', 'Paul', 'Paulin', 'Paulo', 'Pavel', 'Pavlo', 'Pawly', 'Pawnee', 'Pax', 'Paxton', 'Payne', 'Payton', 'Paz', 'Pazel', 'Peabody', 'Peace', 'Peadair', 'Peak', 'Peale', 'Pearce', 'Peder', 'Pedro', 'Peel', 'Peerless', 'Pei', 'Pelagios', 'Pelham', 'Pell', 'Pelle', 'Pellegrino', 'Pelli', 'Pello', 'Pembroke', 'Pendleton', 'Penley', 'Penn', 'Penrod', 'Penrose', 'Pepa', 'Pepe', 'Pepijn', 'Pepin', 'Pepper', 'Per', 'Percival', 'Percy', 'Perdido', 'Peregrine', 'Perez', 'Perfecto', 'Perhonen', 'Pericles', 'Perico', 'Perkin', 'Perran', 'Perre', 'Perrin', 'Perry', 'Perseus', 'Persia', 'Perth', 'Peru', 'Pervis', 'Pesah', 'Pete', 'Peter', 'Peterson', 'Peteul', 'Petiri', 'Petrini', 'Peverell', 'Peyton', 'Pharaoh', 'Phelan', 'Phelix', 'Phelps', 'Philadelphia', 'Philander', 'Philbert', 'Philemon', 'Philip', 'Philippe', 'Phillip', 'Philo', 'Philomon', 'Philosophy', 'Phinean', 'Phineas', 'Phinnaeus', 'Phipps', 'Phoebus', 'Phoenix', 'Phyllon', 'Piano', 'Picabia', 'Picard', 'Picasso', 'Pickford', 'Pierce', 'Pierluigi', 'Piero', 'Pierre', 'Piers', 'Piet', 'Pietro', 'Pike', 'Pili', 'Pilot', 'Pim', 'Pinchas', 'Pine', 'Pino', 'Pio', 'Pip', 'Piper', 'Pippin', 'Piran', 'Pistol', 'Pitney', 'Pitt', 'Placido', 'Plato', 'Plaxico', 'Plenty', 'Plummer', 'Pluto', 'Po', 'Poe', 'Poet', 'Pol', 'Poldi', 'Pollard', 'Pollock', 'Pollux', 'Polo', 'Pom', 'Pomeroy', 'Pompey', 'Ponce', 'Ponti', 'Porat', 'Porfirio', 'Poriel', 'Porter', 'Porthos', 'Portland', 'Poseidon', 'Potter', 'Powell', 'Power', 'Powers', 'Powhatan', 'Pradeep', 'Prairie', 'Pranav', 'Pratt', 'Praxis', 'Prentice', 'Prescott', 'Presley', 'Preston', 'Prewitt', 'Priam', 'Price', 'Priest', 'Primo', 'Primus', 'Prince', 'Princeton', 'Proctor', 'Prosper', 'Prosperity', 'Prospero', 'Proust', 'Provo', 'Pryor', 'Prys', 'Ptolemy', 'Puck', 'Purvis', 'Putnam', 'Pyotr', 'Pyramid', 'Pyramus', 'Qadar', 'Qadim', 'Qadir', 'Qamar', 'Qasim', 'Qirin', 'Quade', 'Quaid', 'Quain', 'Quanah', 'Quantavius', 'Quarry', 'Quartz', 'Quay', 'Quebec', 'Quennel', 'Quentin', 'Quest', 'Quico', 'Quigley', 'Quill', 'Quillan', 'Quillen', 'Quiller', 'Quilliam', 'Quillon', 'Quimby', 'Quince', 'Quincy', 'Quinlan', 'Quinn', 'Quinney', 'Quint', 'Quintas', 'Quinten', 'Quintero', 'Quintin', 'Quinto', 'Quinton', 'Quintus', 'Quirin', 'Quirinal', 'Quirino', 'Quirt', 'Quito', 'Quixley', 'Quixote', 'Quon', 'Ra', 'Raanan', 'Rabi', 'Racer', 'Racham', 'Rad', 'Radburn', 'Radcliff', 'Radley', 'Raeburn', 'Rafael', 'Rafaele', 'Rafe', 'Rafferty', 'Rafi', 'Rafiq', 'Ragnar', 'Rahim', 'Raiden', 'Rain', 'Rainer', 'Raines', 'Rainier', 'Rajah', 'Rajiv', 'Raleigh', 'Ralph', 'Ralphie', 'Ralston', 'Ram', 'Rambo', 'Ramiro', 'Ramon', 'Ramone', 'Ramsay', 'Ramses', 'Rancher', 'Rand', 'Randall', 'Randolph', 'Randy', 'Ranger', 'Rani', 'Ranjit', 'Ransom', 'Ranulph', 'Raoul', 'Raphael', 'Rashad', 'Rashid', 'Rasmus', 'Raul', 'Raven', 'Ravi', 'Rawlins', 'Rawson', 'Ray', 'Rayan', 'Rayburn', 'Rayden', 'Raylan', 'Raymond', 'Raynor', 'Read', 'Reading', 'Reagan', 'Reason', 'Rebel', 'Rebop', 'Red', 'Redford', 'Redmond', 'Reece', 'Reed', 'Reef', 'Reese', 'Reeve', 'Regan', 'Reggie', 'Reginald', 'Regis', 'Rego', 'Rei', 'Reid', 'Reign', 'Reilly', 'Rein', 'Reinaldo', 'Rekker', 'Rem', 'Rembrandt', 'Remi', 'Remington', 'Remo', 'Remus', 'Remy', 'Ren', 'Renato', 'Renaud', 'Rene', 'Rennon', 'Renny', 'Reno', 'Renon', 'Renzo', 'Reo', 'Reon', 'Reuben', 'Rex', 'Rey', 'Reyansh', 'Reynard', 'Reynold', 'Rhett', 'Rhodes', 'Rhodri', 'Rhys', 'Rhythm', 'Riaan', 'Riah', 'Rian', 'Ricardo', 'Richard', 'Richart', 'Richie', 'Richmond', 'Rick', 'Ricky', 'Rico', 'Rider', 'Ridge', 'Ridley', 'Rigby', 'Riggan', 'Riley', 'Ring', 'Ringo', 'Rio', 'Riordan', 'Rip', 'Ripley', 'Rishi', 'Ritter', 'River', 'Riyad', 'Roald', 'Roan', 'Roark', 'Rob', 'Robbe', 'Robert', 'Roberto', 'Robertson', 'Robin', 'Robinson', 'Roc', 'Rocco', 'Rochester', 'Rock', 'Rocker', 'Rocket', 'Rocko', 'Rockwell', 'Rocky', 'Rod', 'Roderick', 'Rodion', 'Rodman', 'Rodney', 'Rodolfo', 'Rodrigo', 'Rodriguez', 'Rogan', 'Rogelio', 'Roger', 'Rogue', 'Rohan', 'Rohmer', 'Rojo', 'Roland', 'Rolando', 'Rolf', 'Rollo', 'Roman', 'Romanus', 'Romany', 'Romelo', 'Romeo', 'Romer', 'Romilly', 'Romney', 'Romolo', 'Romulus', 'Romy', 'Ronald', 'Ronan', 'Rondel', 'Rongo', 'Roni', 'Ronin', 'Ronnie', 'Ronson', 'Roone', 'Rooney', 'Roosevelt', 'Roper', 'Roreto', 'Rory', 'Rosario', 'Roscoe', 'Rosh', 'Ross', 'Roth', 'Rousseau', 'Roux', 'Rowan', 'Rowdy', 'Rowen', 'Rowland', 'Rowley', 'Roxbury', 'Roy', 'Royal', 'Royce', 'Royden', 'Royston', 'Ruadan', 'Ruadhan', 'Ruben', 'Ruby', 'Rudo', 'Rudolf', 'Rudolph', 'Rudy', 'Rudyard', 'Rue', 'Rufus', 'Rugby', 'Rule', 'Rumo', 'Rune', 'Runyon', 'Rupert', 'Rupheo', 'Rupin', 'Rush', 'Ruskin', 'Russell', 'Rusty', 'Rutherford', 'Ryan', 'Ryder', 'Rye', 'Ryker', 'Rylan', 'Ryland', 'Rylee', 'Rylen', 'Ryne', 'Saad', 'Saar', 'Sabbath', 'Saber', 'Sabik', 'Sabin', 'Sabino', 'Sabir', 'Sabo', 'Sabri', 'Sacha', 'Sacheverell', 'Sachin', 'Sadaka', 'Sadik', 'Sadler', 'Sage', 'Sahaj', 'Sahil', 'Sahir', 'Sailor', 'Saint', 'Sajan', 'Sal', 'Saladin', 'Salah', 'Salem', 'Salim', 'Salinger', 'Salix', 'Salman', 'Salmon', 'Salton', 'Salvador', 'Salvator', 'Salvatore', 'Sam', 'Samal', 'Samar', 'Sami', 'Samir', 'Sammy', 'Samo', 'Sampson', 'Samson', 'Samuel', 'Sancho', 'Sander', 'Sanders', 'Sanderson', 'Sandor', 'Sandros', 'Sandy', 'Sanford', 'Sanjay', 'Sanjaya', 'Sanjiro', 'Sansone', 'Santana', 'Santiago', 'Santino', 'Santo', 'Santos', 'Sarad', 'Sargent', 'Sarkis', 'Saroyan', 'Sarto', 'Sascha', 'Sasha', 'Satchel', 'Satriya', 'Saturn', 'Saul', 'Savion', 'Savva', 'Savvel', 'Sawyer', 'Sax', 'Saxon', 'Sayer', 'Schuyler', 'Science', 'Scipio', 'Scorpio', 'Scott', 'Scout', 'Scully', 'Seagull', 'Seal', 'Sealey', 'Seamus', 'Sean', 'Seanan', 'Seaton', 'Seb', 'Sebastian', 'Seeger', 'Segundo', 'Seiji', 'Selby', 'Seldon', 'Selig', 'Selwyn', 'Sem', 'Semaj', 'Senan', 'Sender', 'Seneca', 'Senegal', 'Sennett', 'Septimus', 'Sequoyah', 'Seraphim', 'Seren', 'Sereno', 'Serge', 'Sergeant', 'Sergei', 'Sergio', 'Sergius', 'Seth', 'Seumas', 'Sevan', 'Seven', 'Severin', 'Severo', 'Severus', 'Seward', 'Seweryn', 'Sextus', 'Seymour', 'Shabaan', 'Shad', 'Shade', 'Shai', 'Shakespeare', 'Shale', 'Shalom', 'Shamar', 'Shamir', 'Shamus', 'Shanahan', 'Shandar', 'Shandy', 'Shane', 'Shango', 'Shannon', 'Shaqir', 'Shaquille', 'Sharif', 'Shaun', 'Shaviv', 'Shaw', 'Shawn', 'Shawnel', 'Shay', 'Shayne', 'Shea', 'Sheehan', 'Sheffield', 'Shelby', 'Sheldon', 'Shelley', 'Shelton', 'Shem', 'Shep', 'Shepherd', 'Sheridan', 'Sherlock', 'Sherman', 'Sherwin', 'Sherwood', 'Shia', 'Shiloh', 'Shimon', 'Shiron', 'Shlomo', 'Shmuel', 'Sholto', 'Shooter', 'Shura', 'Siddharth', 'Sidney', 'Siegfried', 'Sierra', 'Sigmund', 'Silas', 'Silvain', 'Silvano', 'Silver', 'Silvio', 'Silvius', 'Sim', 'Simba', 'Simcha', 'Simeon', 'Simm', 'Simon', 'Simpson', 'Sims', 'Simu', 'Sinbad', 'Sincere', 'Sinclair', 'Sindri', 'Sinjin', 'Sinjon', 'Sion', 'Siraj', 'Sirius', 'Siro', 'Sisyphus', 'Sixtus', 'Skandar', 'Skeet', 'Skipper', 'Sky', 'Skye', 'Skylar', 'Skyler', 'Slade', 'Slate', 'Slater', 'Sloan', 'Sloane', 'Sly', 'Smith', 'Snow', 'Socrates', 'Soho', 'Sol', 'Solo', 'Solomon', 'Solon', 'Sonny', 'Soren', 'Sorley', 'Sorrel', 'Sorrell', 'Sosthenes', 'Soutine', 'Spalding', 'Spartacus', 'Speck', 'Spence', 'Spencer', 'Spike', 'Spiro', 'Springer', 'Spruce', 'Squall', 'Squire', 'St John', 'Stacey', 'Stafford', 'Stamatios', 'Stamos', 'Stan', 'Stancio', 'Stanford', 'Stanislav', 'Stanley', 'Stanton', 'Stark', 'Stavros', 'Stedman', 'Steel', 'Steele', 'Stefan', 'Stefano', 'Stellan', 'Stellen', 'Sten', 'Stephano', 'Stephanos', 'Stephanus', 'Stephen', 'Sterling', 'Stetson', 'Steve', 'Steveland', 'Steven', 'Stewart', 'Stian', 'Stieg', 'Stig', 'Stijn', 'Stirling', 'Stone', 'Storm', 'Story', 'Stowe', 'Striker', 'Strom', 'Struan', 'Stuart', 'Suede', 'Sufjan', 'Suhul', 'Sulaiman', 'Sulien', 'Sullivan', 'Sully', 'Sultan', 'Sunny', 'Surya', 'Sutcliff', 'Sutter', 'Sutton', 'Sven', 'Swain', 'Sweden', 'Sweeney', 'Swithin', 'Swithun', 'Sydney', 'Sylas', 'Sylvain', 'Sylvan', 'Sylvester', 'Syrus', 'Tab', 'Tabari', 'Tabor', 'Tad', 'Taddeo', 'Taden', 'Tadeo', 'Tadhg', 'Taffy', 'Taft', 'Taggart', 'Tahmel', 'Tahoe', 'Tai', 'Taiden', 'Taio', 'Tait', 'Taj', 'Takeo', 'Tal', 'Talbot', 'Talcott', 'Talib', 'Taliesin', 'Talman', 'Talon', 'Tam', 'Tamarack', 'Tamerlaine', 'Tamerlane', 'Tamir', 'Tamlane', 'Tancred', 'Tancredo', 'Tane', 'Tangier', 'Tango', 'Tanguy', 'Tanner', 'Tanwyn', 'Tao', 'Taos', 'Tarak', 'Tarian', 'Tariq', 'Tarot', 'Tarquin', 'Tarzan', 'Tasman', 'Tasso', 'Tate', 'Tatum', 'Taurus', 'Tavis', 'Tavish', 'Tay', 'Taye', 'Taylor', 'Tayson', 'Teagan', 'Teague', 'Teal', 'Ted', 'Teel', 'Teilo', 'Telmo', 'Temani', 'Temple', 'Templeton', 'Tempo', 'Tennessee', 'Tennyson', 'Terach', 'Terence', 'Terrance', 'Terre', 'Terrell', 'Terrence', 'Terry', 'Tertius', 'Teton', 'Teun', 'Tevin', 'Tew', 'Tex', 'Texas', 'Thackeray', 'Thad', 'Thaddeus', 'Thames', 'Thane', 'Thanh', 'Thanos', 'Thatcher', 'Thayer', 'Thelonious', 'Thelonius', 'Theo', 'Theobald', 'Theodore', 'Theodoric', 'Theodule', 'Theodulus', 'Theon', 'Theophilos', 'Theophilus', 'Theron', 'Theseus', 'Thiago', 'Thibault', 'Thierry', 'Thijs', 'Thistle', 'Thom', 'Thomas', 'Thompson', 'Thor', 'Thoreau', 'Thorin', 'Thorne', 'Thornton', 'Thorpe', 'Thurber', 'Thurgood', 'Thurman', 'Thurstan', 'Thurston', 'Tiberius', 'Tibor', 'Tide', 'Tiernan', 'Tierney', 'Tiger', 'Tilden', 'Till', 'Tim', 'Timaeus', 'Timber', 'Timeo', 'Timo', 'Timon', 'Timothy', 'Tino', 'Tip', 'Tiras', 'Titan', 'Tito', 'Titus', 'Tobiah', 'Tobias', 'Tobin', 'Toby', 'Todd', 'Toivo', 'Tolliver', 'Tolly', 'Tom', 'Tomas', 'Tomasso', 'Tomasz', 'Tommaso', 'Tommy', 'Tonio', 'Tony', 'Topher', 'Tor', 'Torin', 'Torquil', 'Torvald', 'Toulouse', 'Toussaint', 'Tovi', 'Tower', 'Trace', 'Track', 'Tracy', 'Traian', 'Trail', 'Transito', 'Traveler', 'Travis', 'Travon', 'Traylor', 'Treat', 'Tremont', 'Trenner', 'Trent', 'Trenton', 'Trevon', 'Trevor', 'Trey', 'Treyton', 'Trig', 'Trip', 'Tripp', 'Tristan', 'Tristen', 'Tristian', 'Tristin', 'Triston', 'Tristram', 'Trout', 'Troy', 'Tru', 'True', 'Truett', 'Truman', 'Trust', 'Truth', 'Trygg', 'Tucker', 'Tucson', 'Tudor', 'Tulio', 'Tullio', 'Tully', 'Tupac', 'Tupelo', 'Turner', 'Turtle', 'Tuvia', 'Twain', 'Ty', 'Tybalt', 'Tycho', 'Tyge', 'Tygo', 'Tyler', 'Tynan', 'Typhoon', 'Tyree', 'Tyreese', 'Tyrell', 'Tyrion', 'Tyrone', 'Tyrus', 'Tyson', 'Udell', 'Udo', 'Udoka', 'Ugo', 'Uilleam', 'Uilliam', 'Ulan', 'Ulf', 'Ulick', 'Ulises', 'Ull', 'Ulric', 'Ultan', 'Ulysses', 'Umar', 'Umber', 'Umberto', 'Unai', 'Unika', 'Unique', 'Upton', 'Upwood', 'Urban', 'Uri', 'Uriah', 'Uriel', 'Urien', 'Urijah', 'Urki', 'Urso', 'Usain', 'Usher', 'Ushi', 'Utah', 'Uz', 'Uzi', 'Uziah', 'Uzziah', 'Vachel', 'Vadim', 'Vail', 'Val', 'Valdemar', 'Vale', 'Valentin', 'Valentine', 'Valentino', 'Valerian', 'Valerio', 'Vallis', 'Valo', 'Valor', 'Valter', 'Van', 'Vance', 'Vandal', 'Vandyke', 'Vane', 'Vanya', 'Varan', 'Varana', 'Vardon', 'Varun', 'Vasant', 'Vasco', 'Vasili', 'Vaughan', 'Vaughn', 'Ved', 'Veer', 'Vega', 'Venedictos', 'Venezio', 'Venn', 'Venturi', 'Venturo', 'Venya', 'Verdi', 'Vere', 'Vered', 'Vermont', 'Vernados', 'Vernon', 'Vero', 'Verrill', 'Vesper', 'Vesuvio', 'Vice', 'Vicente', 'Victor', 'Vicus', 'Vidal', 'Vidar', 'Vidor', 'Viggo', 'Vigo', 'Vihaan', 'Vijay', 'Vikram', 'Vilhelm', 'Viliam', 'Viljo', 'Villads', 'Villard', 'Villiers', 'Villum', 'Vin', 'Vince', 'Vincent', 'Vincenzo', 'Vine', 'Ving', 'Vinny', 'Vinson', 'Vireo', 'Virgil', 'Viridian', 'Vischer', 'Vishnu', 'Vito', 'Vittorio', 'Vitus', 'Vivaan', 'Vivaldo', 'Vivian', 'Vlad', 'Vladimir', 'Vladislav', 'Volante', 'Volney', 'Von', 'Voss', 'Vrai', 'Vulcan', 'Wade', 'Wagner', 'Wainwright', 'Waldemar', 'Walden', 'Waldo', 'Wales', 'Walken', 'Walker', 'Wallace', 'Wally', 'Walt', 'Walter', 'Walton', 'Ward', 'Warner', 'Warren', 'Warrick', 'Warrin', 'Washington', 'Watson', 'Wayland', 'Waylon', 'Wayne', 'Weaver', 'Webb', 'Webster', 'Welby', 'Wenczeslaw', 'Wendell', 'Werner', 'Werther', 'Wesley', 'West', 'Westbrook', 'Westcott', 'Westin', 'Weston', 'Wharton', 'Wheeler', 'Whistler', 'Whit', 'Whitford', 'Whitman', 'Whitney', 'Whittaker', 'Wilbur', 'Wild', 'Wilder', 'Wiley', 'Wilfred', 'Wilhelm', 'Wilkes', 'Wilkie', 'Will', 'Willard', 'Willem', 'William', 'Willie', 'Willis', 'Willoughby', 'Wills', 'Willy', 'Wilmer', 'Wilmot', 'Wilson', 'Wilton', 'Wim', 'Win', 'Windsor', 'Winiata', 'Winner', 'Winslow', 'Winston', 'Winter', 'Winthrop', 'Winton', 'Witt', 'Wizard', 'Wm', 'Wolcott', 'Wolf', 'Wolfe', 'Wolfgang', 'Wolverine', 'Woodrow', 'Woody', 'Worth', 'Worthy', 'Wray', 'Wrecker', 'Wren', 'Wyatt', 'Wyclef', 'Wylei', 'Wylie', 'Wyn', 'Wyndham', 'Wynton', 'Wystan', 'Xan', 'Xander', 'Xanthos', 'Xanthus', 'Xavi', 'Xavier', 'Xen', 'Xenophon', 'Xenos', 'Xerxes', 'Ximenes', 'Xoan', 'Xolani', 'Xylon', 'Xzavier', 'Yaakov', 'Yada', 'Yadiel', 'Yael', 'Yahir', 'Yahya', 'Yair', 'Yakim', 'Yakov', 'Yale', 'Yanai', 'Yancey', 'Yanis', 'Yann', 'Yannick', 'Yannis', 'Yarden', 'Yardley', 'Yaron', 'Yarrow', 'Yasha', 'Yasiel', 'Yasir', 'Yaw', 'Yeats', 'Yehuda', 'Yehudah', 'Yevgeny', 'Yisrael', 'Yitzhak', 'Yoel', 'Yonah', 'Yorick', 'York', 'Yosef', 'Yosemite', 'Yoshi', 'Yousef', 'Yu', 'Yukio', 'Yul', 'Yule', 'Yuma', 'Yuri', 'Yusuf', 'Yves', 'Zabe', 'Zac', 'Zaccheus', 'Zach', 'Zachalie', 'Zachariah', 'Zacharias', 'Zachary', 'Zacheo', 'Zackary', 'Zade', 'Zaden', 'Zadock', 'Zadornin', 'Zafar', 'Zahavi', 'Zahir', 'Zahn', 'Zaid', 'Zaiden', 'Zailey', 'Zain', 'Zair', 'Zaire', 'Zak', 'Zaki', 'Zakk', 'Zako', 'Zale', 'Zalmai', 'Zalman', 'Zamiel', 'Zamir', 'Zan', 'Zander', 'Zandy', 'Zane', 'Zared', 'Zarney', 'Zarren', 'Zavid', 'Zavier', 'Zayd', 'Zayden', 'Zayn', 'Zayne', 'Zbigniew', 'Zeb', 'Zebadiah', 'Zebedee', 'Zebediah', 'Zebulon', 'Zebulun', 'Zechariah', 'Zed', 'Zedekiah', 'Zeke', 'Zekeriah', 'Zeki', 'Zelfa', 'Zelig', 'Zell', 'Zelmo', 'Zen', 'Zenebe', 'Zenith', 'Zennor', 'Zeno', 'Zenobios', 'Zenon', 'Zeo', 'Zephaniah', 'Zephyr', 'Zephyrin', 'Zeppelin', 'Zerah', 'Zero', 'Zerrick', 'Zeru', 'Zesiro', 'Zeus', 'Zev', 'Zevadiah', 'Zevi', 'Zevon', 'Zhivago', 'Zia', 'Ziggy', 'Zikomo', 'Zimran', 'Zimri', 'Zinc', 'Zinedine', 'Zion', 'Ziv', 'Ziven', 'Zohar', 'Zoilo', 'Zola', 'Zoltan', 'Zolten', 'Zooey', 'Zophar', 'Zorion', 'Zubin', 'Zuko', 'Zuri', 'Zuzen', 'Zvi', 'Zyler']\n"
     ]
    }
   ],
   "source": [
    "print(boy_names)"
   ]
  },
  {
   "cell_type": "code",
   "execution_count": null,
   "metadata": {
    "collapsed": false
   },
   "outputs": [],
   "source": [
    "boy_names.sort()\n",
    "print(str(len(boy_names)) + \" names from \" + \\\n",
    "       boy_names[0] + \" to \" + boy_names[-1] + \".\")"
   ]
  },
  {
   "cell_type": "markdown",
   "metadata": {},
   "source": [
    "To demonstrate we downloaded and parsed all the names, and to have a little fun, let's make up an official-sounding name for a childish Congressman."
   ]
  },
  {
   "cell_type": "code",
   "execution_count": null,
   "metadata": {
    "collapsed": false
   },
   "outputs": [],
   "source": [
    "import random\n",
    "proper_person_name = \"\"\n",
    "for n in range(5):\n",
    "    proper_person_name += random.choice(boy_names) + \" \"\n",
    "proper_person_name = \"Congressman \" + proper_person_name[:-1] + \" XVI\" + \" PhD\"\n",
    "print(proper_person_name)"
   ]
  },
  {
   "cell_type": "markdown",
   "metadata": {},
   "source": [
    "# JSON\n",
    "\n",
    "JSON is a light-weight data interchange format. \n",
    "\n",
    "Some web service APIs can output in JSON and the json  Python module facilitates parsing.\n",
    "\n",
    "www.json.org/"
   ]
  },
  {
   "cell_type": "code",
   "execution_count": null,
   "metadata": {
    "collapsed": false
   },
   "outputs": [],
   "source": [
    "import json\n",
    "import joshkey\n",
    "base_domain = \"http://words.bighugelabs.com/\"\n",
    "\n",
    "api_key =  joshkey.API # get your own damn key!\n",
    "word = \"hacker\"\n",
    "\n",
    "url = base_domain + \"api/2/\" + api_key + \"/\" + word + \"/json\"\n",
    "print(url)\n",
    "\n",
    "result = json.loads(urlopen(url).read().decode(\"UTF-8\")) # a dictionary!\n",
    "\n",
    "print(result)"
   ]
  },
  {
   "cell_type": "code",
   "execution_count": null,
   "metadata": {
    "collapsed": false
   },
   "outputs": [],
   "source": [
    "import pprint\n",
    "pprint.pprint(result)"
   ]
  },
  {
   "cell_type": "markdown",
   "metadata": {},
   "source": [
    "A more fleshed-out example code, prints the output more cleanly."
   ]
  },
  {
   "cell_type": "code",
   "execution_count": null,
   "metadata": {
    "collapsed": false
   },
   "outputs": [],
   "source": [
    "import sys\n",
    "base_domain = \"http://words.bighugelabs.com/\"\n",
    "api_key = \"483e281b60496d7961d852629799e733\"\n",
    "word = \"notebook\"\n",
    "print(\"Retrieving thesaurus entry for \\\"\" + word + \"\\\".\")\n",
    "url = base_domain + \"api/2/\" + api_key + \"/\" + word + \"/json\"\n",
    "try:\n",
    "    result = json.loads(urlopen(url).read().decode(\"UTF-8\")) # a dictionary!\n",
    "except:\n",
    "    print(\"Error - word probably not in thesaurus.\")\n",
    "    #sys.exit()\n",
    "for part_of_speech in result:\n",
    "    print(\"-\"*50)\n",
    "    print(\"These are the \" + part_of_speech + \" entries:\")\n",
    "    for key in [\"syn\", \"ant\", \"rel\"]:\n",
    "        try:\n",
    "            for synonym in result[part_of_speech][key]:\n",
    "                print(key + \" - \" + synonym)\n",
    "        except:\n",
    "            continue"
   ]
  }
 ],
 "metadata": {
  "anaconda-cloud": {},
  "kernelspec": {
   "display_name": "Python [Root]",
   "language": "python",
   "name": "Python [Root]"
  },
  "language_info": {
   "codemirror_mode": {
    "name": "ipython",
    "version": 3
   },
   "file_extension": ".py",
   "mimetype": "text/x-python",
   "name": "python",
   "nbconvert_exporter": "python",
   "pygments_lexer": "ipython3",
   "version": "3.5.2"
  }
 },
 "nbformat": 4,
 "nbformat_minor": 0
}
